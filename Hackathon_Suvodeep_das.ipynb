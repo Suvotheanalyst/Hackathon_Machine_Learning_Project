{
 "cells": [
  {
   "cell_type": "code",
   "execution_count": 94,
   "id": "8e70493c",
   "metadata": {},
   "outputs": [],
   "source": [
    "#import all packages\n",
    "import pandas as pd\n",
    "import numpy as np\n",
    "import sklearn\n",
    "import pickle\n",
    "from sklearn.preprocessing import LabelEncoder\n",
    "from sklearn import preprocessing\n",
    "from sklearn import model_selection\n",
    "from sklearn.linear_model import *\n",
    "from sklearn import metrics\n",
    "import pandas as pd\n",
    "#import pylab as plb\n",
    "import matplotlib.pyplot as plt\n",
    "%matplotlib inline\n",
    "plt.style.use('ggplot')\n",
    "from sklearn.metrics import *\n",
    "import xgboost as xgb\n",
    "from xgboost import *\n",
    "from sklearn.model_selection import *"
   ]
  },
  {
   "cell_type": "markdown",
   "id": "bb6adcde",
   "metadata": {},
   "source": [
    "# Extract data from csv file"
   ]
  },
  {
   "cell_type": "code",
   "execution_count": 95,
   "id": "74584187",
   "metadata": {},
   "outputs": [],
   "source": [
    "df_train1=pd.read_csv('Train_Dataset.csv')\n",
    "df_test=pd.read_csv('Test_Dataset.csv')"
   ]
  },
  {
   "cell_type": "code",
   "execution_count": 96,
   "id": "99cea146",
   "metadata": {},
   "outputs": [
    {
     "data": {
      "text/html": [
       "<div>\n",
       "<style scoped>\n",
       "    .dataframe tbody tr th:only-of-type {\n",
       "        vertical-align: middle;\n",
       "    }\n",
       "\n",
       "    .dataframe tbody tr th {\n",
       "        vertical-align: top;\n",
       "    }\n",
       "\n",
       "    .dataframe thead th {\n",
       "        text-align: right;\n",
       "    }\n",
       "</style>\n",
       "<table border=\"1\" class=\"dataframe\">\n",
       "  <thead>\n",
       "    <tr style=\"text-align: right;\">\n",
       "      <th></th>\n",
       "      <th>EmployeeID</th>\n",
       "      <th>Attrition</th>\n",
       "      <th>Age</th>\n",
       "      <th>TravelProfile</th>\n",
       "      <th>Department</th>\n",
       "      <th>HomeToWork</th>\n",
       "      <th>EducationField</th>\n",
       "      <th>Gender</th>\n",
       "      <th>HourlnWeek</th>\n",
       "      <th>Involvement</th>\n",
       "      <th>...</th>\n",
       "      <th>JobSatisfaction</th>\n",
       "      <th>ESOPs</th>\n",
       "      <th>NumCompaniesWorked</th>\n",
       "      <th>OverTime</th>\n",
       "      <th>SalaryHikelastYear</th>\n",
       "      <th>WorkExperience</th>\n",
       "      <th>LastPromotion</th>\n",
       "      <th>CurrentProfile</th>\n",
       "      <th>MaritalStatus</th>\n",
       "      <th>MonthlyIncome</th>\n",
       "    </tr>\n",
       "  </thead>\n",
       "  <tbody>\n",
       "    <tr>\n",
       "      <th>0</th>\n",
       "      <td>5110001.0</td>\n",
       "      <td>0.0</td>\n",
       "      <td>35.0</td>\n",
       "      <td>Rarely</td>\n",
       "      <td>Analytics</td>\n",
       "      <td>5.0</td>\n",
       "      <td>CA</td>\n",
       "      <td>Male</td>\n",
       "      <td>69.0</td>\n",
       "      <td>1.0</td>\n",
       "      <td>...</td>\n",
       "      <td>1.0</td>\n",
       "      <td>1.0</td>\n",
       "      <td>1.0</td>\n",
       "      <td>1.0</td>\n",
       "      <td>20.0</td>\n",
       "      <td>7.0</td>\n",
       "      <td>2.0</td>\n",
       "      <td>NaN</td>\n",
       "      <td>M</td>\n",
       "      <td>18932.0</td>\n",
       "    </tr>\n",
       "    <tr>\n",
       "      <th>1</th>\n",
       "      <td>5110002.0</td>\n",
       "      <td>1.0</td>\n",
       "      <td>32.0</td>\n",
       "      <td>Yes</td>\n",
       "      <td>Sales</td>\n",
       "      <td>5.0</td>\n",
       "      <td>Statistics</td>\n",
       "      <td>Female</td>\n",
       "      <td>62.0</td>\n",
       "      <td>4.0</td>\n",
       "      <td>...</td>\n",
       "      <td>2.0</td>\n",
       "      <td>0.0</td>\n",
       "      <td>8.0</td>\n",
       "      <td>0.0</td>\n",
       "      <td>20.0</td>\n",
       "      <td>4.0</td>\n",
       "      <td>1.0</td>\n",
       "      <td>NaN</td>\n",
       "      <td>Single</td>\n",
       "      <td>18785.0</td>\n",
       "    </tr>\n",
       "    <tr>\n",
       "      <th>2</th>\n",
       "      <td>5110003.0</td>\n",
       "      <td>0.0</td>\n",
       "      <td>31.0</td>\n",
       "      <td>Rarely</td>\n",
       "      <td>Analytics</td>\n",
       "      <td>5.0</td>\n",
       "      <td>Statistics</td>\n",
       "      <td>F</td>\n",
       "      <td>45.0</td>\n",
       "      <td>5.0</td>\n",
       "      <td>...</td>\n",
       "      <td>2.0</td>\n",
       "      <td>1.0</td>\n",
       "      <td>3.0</td>\n",
       "      <td>0.0</td>\n",
       "      <td>26.0</td>\n",
       "      <td>12.0</td>\n",
       "      <td>1.0</td>\n",
       "      <td>3.0</td>\n",
       "      <td>Single</td>\n",
       "      <td>22091.0</td>\n",
       "    </tr>\n",
       "    <tr>\n",
       "      <th>3</th>\n",
       "      <td>5110004.0</td>\n",
       "      <td>0.0</td>\n",
       "      <td>34.0</td>\n",
       "      <td>Yes</td>\n",
       "      <td>Sales</td>\n",
       "      <td>10.0</td>\n",
       "      <td>Statistics</td>\n",
       "      <td>Female</td>\n",
       "      <td>32.0</td>\n",
       "      <td>3.0</td>\n",
       "      <td>...</td>\n",
       "      <td>4.0</td>\n",
       "      <td>1.0</td>\n",
       "      <td>1.0</td>\n",
       "      <td>0.0</td>\n",
       "      <td>23.0</td>\n",
       "      <td>5.0</td>\n",
       "      <td>1.0</td>\n",
       "      <td>3.0</td>\n",
       "      <td>Divorsed</td>\n",
       "      <td>20302.0</td>\n",
       "    </tr>\n",
       "    <tr>\n",
       "      <th>4</th>\n",
       "      <td>5110005.0</td>\n",
       "      <td>0.0</td>\n",
       "      <td>37.0</td>\n",
       "      <td>No</td>\n",
       "      <td>Analytics</td>\n",
       "      <td>27.0</td>\n",
       "      <td>Statistics</td>\n",
       "      <td>Female</td>\n",
       "      <td>49.0</td>\n",
       "      <td>3.0</td>\n",
       "      <td>...</td>\n",
       "      <td>4.0</td>\n",
       "      <td>1.0</td>\n",
       "      <td>8.0</td>\n",
       "      <td>0.0</td>\n",
       "      <td>21.0</td>\n",
       "      <td>12.0</td>\n",
       "      <td>1.0</td>\n",
       "      <td>9.0</td>\n",
       "      <td>Divorsed</td>\n",
       "      <td>21674.0</td>\n",
       "    </tr>\n",
       "  </tbody>\n",
       "</table>\n",
       "<p>5 rows × 22 columns</p>\n",
       "</div>"
      ],
      "text/plain": [
       "   EmployeeID  Attrition   Age TravelProfile Department  HomeToWork  \\\n",
       "0   5110001.0        0.0  35.0        Rarely  Analytics         5.0   \n",
       "1   5110002.0        1.0  32.0           Yes      Sales         5.0   \n",
       "2   5110003.0        0.0  31.0        Rarely  Analytics         5.0   \n",
       "3   5110004.0        0.0  34.0           Yes      Sales        10.0   \n",
       "4   5110005.0        0.0  37.0            No  Analytics        27.0   \n",
       "\n",
       "  EducationField  Gender  HourlnWeek  Involvement  ...  JobSatisfaction ESOPs  \\\n",
       "0             CA    Male        69.0          1.0  ...              1.0   1.0   \n",
       "1     Statistics  Female        62.0          4.0  ...              2.0   0.0   \n",
       "2     Statistics       F        45.0          5.0  ...              2.0   1.0   \n",
       "3     Statistics  Female        32.0          3.0  ...              4.0   1.0   \n",
       "4     Statistics  Female        49.0          3.0  ...              4.0   1.0   \n",
       "\n",
       "   NumCompaniesWorked  OverTime  SalaryHikelastYear  WorkExperience  \\\n",
       "0                 1.0       1.0                20.0             7.0   \n",
       "1                 8.0       0.0                20.0             4.0   \n",
       "2                 3.0       0.0                26.0            12.0   \n",
       "3                 1.0       0.0                23.0             5.0   \n",
       "4                 8.0       0.0                21.0            12.0   \n",
       "\n",
       "   LastPromotion  CurrentProfile  MaritalStatus  MonthlyIncome  \n",
       "0            2.0             NaN              M        18932.0  \n",
       "1            1.0             NaN         Single        18785.0  \n",
       "2            1.0             3.0         Single        22091.0  \n",
       "3            1.0             3.0       Divorsed        20302.0  \n",
       "4            1.0             9.0       Divorsed        21674.0  \n",
       "\n",
       "[5 rows x 22 columns]"
      ]
     },
     "execution_count": 96,
     "metadata": {},
     "output_type": "execute_result"
    }
   ],
   "source": [
    "df_train1.head()"
   ]
  },
  {
   "cell_type": "code",
   "execution_count": 97,
   "id": "95c0f3ce",
   "metadata": {},
   "outputs": [
    {
     "data": {
      "text/plain": [
       "(7810, 22)"
      ]
     },
     "execution_count": 97,
     "metadata": {},
     "output_type": "execute_result"
    }
   ],
   "source": [
    "df_train1.shape"
   ]
  },
  {
   "cell_type": "code",
   "execution_count": 98,
   "id": "2234bbcf",
   "metadata": {},
   "outputs": [
    {
     "data": {
      "text/plain": [
       "EmployeeID            2630\n",
       "Attrition             2630\n",
       "Age                   2630\n",
       "TravelProfile         2630\n",
       "Department            2630\n",
       "HomeToWork            2630\n",
       "EducationField        2630\n",
       "Gender                2630\n",
       "HourlnWeek            2630\n",
       "Involvement           2630\n",
       "WorkLifeBalance       2630\n",
       "Designation           2630\n",
       "JobSatisfaction       2630\n",
       "ESOPs                 2630\n",
       "NumCompaniesWorked    2630\n",
       "OverTime              2630\n",
       "SalaryHikelastYear    2630\n",
       "WorkExperience        2630\n",
       "LastPromotion         2630\n",
       "CurrentProfile        2630\n",
       "MaritalStatus         2630\n",
       "MonthlyIncome         2630\n",
       "dtype: int64"
      ]
     },
     "execution_count": 98,
     "metadata": {},
     "output_type": "execute_result"
    }
   ],
   "source": [
    "df_train1.iloc[5180:].isnull().sum()"
   ]
  },
  {
   "cell_type": "markdown",
   "id": "981d2363",
   "metadata": {},
   "source": [
    "there are only null values in this 2630 rows so we can drop them"
   ]
  },
  {
   "cell_type": "markdown",
   "id": "b192b014",
   "metadata": {},
   "source": [
    "# after removing null values"
   ]
  },
  {
   "cell_type": "code",
   "execution_count": 100,
   "id": "35f60cc7",
   "metadata": {},
   "outputs": [],
   "source": [
    "df_train=df_train1.iloc[0:5180].copy()"
   ]
  },
  {
   "cell_type": "code",
   "execution_count": 101,
   "id": "88cf9035",
   "metadata": {},
   "outputs": [
    {
     "data": {
      "text/plain": [
       "(5180, 22)"
      ]
     },
     "execution_count": 101,
     "metadata": {},
     "output_type": "execute_result"
    }
   ],
   "source": [
    "df_train.shape"
   ]
  },
  {
   "cell_type": "code",
   "execution_count": 102,
   "id": "aa65416d",
   "metadata": {},
   "outputs": [
    {
     "data": {
      "text/html": [
       "<div>\n",
       "<style scoped>\n",
       "    .dataframe tbody tr th:only-of-type {\n",
       "        vertical-align: middle;\n",
       "    }\n",
       "\n",
       "    .dataframe tbody tr th {\n",
       "        vertical-align: top;\n",
       "    }\n",
       "\n",
       "    .dataframe thead th {\n",
       "        text-align: right;\n",
       "    }\n",
       "</style>\n",
       "<table border=\"1\" class=\"dataframe\">\n",
       "  <thead>\n",
       "    <tr style=\"text-align: right;\">\n",
       "      <th></th>\n",
       "      <th>EmployeeID</th>\n",
       "      <th>Age</th>\n",
       "      <th>TravelProfile</th>\n",
       "      <th>Department</th>\n",
       "      <th>HomeToWork</th>\n",
       "      <th>EducationField</th>\n",
       "      <th>Gender</th>\n",
       "      <th>HourlnWeek</th>\n",
       "      <th>Involvement</th>\n",
       "      <th>WorkLifeBalance</th>\n",
       "      <th>...</th>\n",
       "      <th>JobSatisfaction</th>\n",
       "      <th>ESOPs</th>\n",
       "      <th>NumCompaniesWorked</th>\n",
       "      <th>OverTime</th>\n",
       "      <th>SalaryHikelastYear</th>\n",
       "      <th>WorkExperience</th>\n",
       "      <th>LastPromotion</th>\n",
       "      <th>CurrentProfile</th>\n",
       "      <th>MaritalStatus</th>\n",
       "      <th>MonthlyIncome</th>\n",
       "    </tr>\n",
       "  </thead>\n",
       "  <tbody>\n",
       "    <tr>\n",
       "      <th>0</th>\n",
       "      <td>6110001</td>\n",
       "      <td>18.0</td>\n",
       "      <td>No</td>\n",
       "      <td>NaN</td>\n",
       "      <td>9.0</td>\n",
       "      <td>CA</td>\n",
       "      <td>Male</td>\n",
       "      <td>80.0</td>\n",
       "      <td>3</td>\n",
       "      <td>2</td>\n",
       "      <td>...</td>\n",
       "      <td>3</td>\n",
       "      <td>1</td>\n",
       "      <td>1</td>\n",
       "      <td>0</td>\n",
       "      <td>17.0</td>\n",
       "      <td>0.0</td>\n",
       "      <td>0.0</td>\n",
       "      <td>0.0</td>\n",
       "      <td>Single</td>\n",
       "      <td>16904.0</td>\n",
       "    </tr>\n",
       "    <tr>\n",
       "      <th>1</th>\n",
       "      <td>6110002</td>\n",
       "      <td>20.0</td>\n",
       "      <td>Rarely</td>\n",
       "      <td>Analytics</td>\n",
       "      <td>28.0</td>\n",
       "      <td>Statistics</td>\n",
       "      <td>Female</td>\n",
       "      <td>59.0</td>\n",
       "      <td>1</td>\n",
       "      <td>3</td>\n",
       "      <td>...</td>\n",
       "      <td>1</td>\n",
       "      <td>1</td>\n",
       "      <td>2</td>\n",
       "      <td>1</td>\n",
       "      <td>18.0</td>\n",
       "      <td>2.0</td>\n",
       "      <td>1.0</td>\n",
       "      <td>NaN</td>\n",
       "      <td>Single</td>\n",
       "      <td>18994.0</td>\n",
       "    </tr>\n",
       "    <tr>\n",
       "      <th>2</th>\n",
       "      <td>6110003</td>\n",
       "      <td>50.0</td>\n",
       "      <td>Rarely</td>\n",
       "      <td>Analytics</td>\n",
       "      <td>19.0</td>\n",
       "      <td>CA</td>\n",
       "      <td>Female</td>\n",
       "      <td>76.0</td>\n",
       "      <td>3</td>\n",
       "      <td>3</td>\n",
       "      <td>...</td>\n",
       "      <td>5</td>\n",
       "      <td>0</td>\n",
       "      <td>5</td>\n",
       "      <td>1</td>\n",
       "      <td>22.0</td>\n",
       "      <td>18.0</td>\n",
       "      <td>3.0</td>\n",
       "      <td>3.0</td>\n",
       "      <td>M</td>\n",
       "      <td>18587.0</td>\n",
       "    </tr>\n",
       "    <tr>\n",
       "      <th>3</th>\n",
       "      <td>6110004</td>\n",
       "      <td>32.0</td>\n",
       "      <td>Rarely</td>\n",
       "      <td>Sales</td>\n",
       "      <td>23.0</td>\n",
       "      <td>Statistics</td>\n",
       "      <td>Female</td>\n",
       "      <td>73.0</td>\n",
       "      <td>5</td>\n",
       "      <td>2</td>\n",
       "      <td>...</td>\n",
       "      <td>3</td>\n",
       "      <td>0</td>\n",
       "      <td>4</td>\n",
       "      <td>1</td>\n",
       "      <td>17.0</td>\n",
       "      <td>5.0</td>\n",
       "      <td>3.0</td>\n",
       "      <td>3.0</td>\n",
       "      <td>Married</td>\n",
       "      <td>20559.0</td>\n",
       "    </tr>\n",
       "    <tr>\n",
       "      <th>4</th>\n",
       "      <td>6110005</td>\n",
       "      <td>39.0</td>\n",
       "      <td>Rarely</td>\n",
       "      <td>Analytics</td>\n",
       "      <td>7.0</td>\n",
       "      <td>CA</td>\n",
       "      <td>Male</td>\n",
       "      <td>42.0</td>\n",
       "      <td>4</td>\n",
       "      <td>1</td>\n",
       "      <td>...</td>\n",
       "      <td>5</td>\n",
       "      <td>1</td>\n",
       "      <td>4</td>\n",
       "      <td>0</td>\n",
       "      <td>20.0</td>\n",
       "      <td>9.0</td>\n",
       "      <td>1.0</td>\n",
       "      <td>7.0</td>\n",
       "      <td>Married</td>\n",
       "      <td>24991.0</td>\n",
       "    </tr>\n",
       "  </tbody>\n",
       "</table>\n",
       "<p>5 rows × 21 columns</p>\n",
       "</div>"
      ],
      "text/plain": [
       "   EmployeeID   Age TravelProfile Department  HomeToWork EducationField  \\\n",
       "0     6110001  18.0            No        NaN         9.0             CA   \n",
       "1     6110002  20.0        Rarely  Analytics        28.0     Statistics   \n",
       "2     6110003  50.0        Rarely  Analytics        19.0             CA   \n",
       "3     6110004  32.0        Rarely      Sales        23.0     Statistics   \n",
       "4     6110005  39.0        Rarely  Analytics         7.0             CA   \n",
       "\n",
       "   Gender  HourlnWeek  Involvement  WorkLifeBalance  ... JobSatisfaction  \\\n",
       "0    Male        80.0            3                2  ...               3   \n",
       "1  Female        59.0            1                3  ...               1   \n",
       "2  Female        76.0            3                3  ...               5   \n",
       "3  Female        73.0            5                2  ...               3   \n",
       "4    Male        42.0            4                1  ...               5   \n",
       "\n",
       "   ESOPs  NumCompaniesWorked  OverTime  SalaryHikelastYear  WorkExperience  \\\n",
       "0      1                   1         0                17.0             0.0   \n",
       "1      1                   2         1                18.0             2.0   \n",
       "2      0                   5         1                22.0            18.0   \n",
       "3      0                   4         1                17.0             5.0   \n",
       "4      1                   4         0                20.0             9.0   \n",
       "\n",
       "   LastPromotion  CurrentProfile  MaritalStatus MonthlyIncome  \n",
       "0            0.0             0.0         Single       16904.0  \n",
       "1            1.0             NaN         Single       18994.0  \n",
       "2            3.0             3.0              M       18587.0  \n",
       "3            3.0             3.0        Married       20559.0  \n",
       "4            1.0             7.0        Married       24991.0  \n",
       "\n",
       "[5 rows x 21 columns]"
      ]
     },
     "execution_count": 102,
     "metadata": {},
     "output_type": "execute_result"
    }
   ],
   "source": [
    "df_test.head()"
   ]
  },
  {
   "cell_type": "code",
   "execution_count": 103,
   "id": "d30f45cb",
   "metadata": {},
   "outputs": [
    {
     "data": {
      "text/plain": [
       "Index(['EmployeeID', 'Age', 'TravelProfile', 'Department', 'HomeToWork',\n",
       "       'EducationField', 'Gender', 'HourlnWeek', 'Involvement',\n",
       "       'WorkLifeBalance', 'Designation', 'JobSatisfaction', 'ESOPs',\n",
       "       'NumCompaniesWorked', 'OverTime', 'SalaryHikelastYear',\n",
       "       'WorkExperience', 'LastPromotion', 'CurrentProfile', 'MaritalStatus',\n",
       "       'MonthlyIncome'],\n",
       "      dtype='object')"
      ]
     },
     "execution_count": 103,
     "metadata": {},
     "output_type": "execute_result"
    }
   ],
   "source": [
    "df_test.columns"
   ]
  },
  {
   "cell_type": "code",
   "execution_count": 104,
   "id": "dc7ec6ce",
   "metadata": {},
   "outputs": [
    {
     "data": {
      "text/plain": [
       "Index(['EmployeeID', 'Attrition', 'Age', 'TravelProfile', 'Department',\n",
       "       'HomeToWork', 'EducationField', 'Gender', 'HourlnWeek', 'Involvement',\n",
       "       'WorkLifeBalance', 'Designation', 'JobSatisfaction', 'ESOPs',\n",
       "       'NumCompaniesWorked', 'OverTime', 'SalaryHikelastYear',\n",
       "       'WorkExperience', 'LastPromotion', 'CurrentProfile', 'MaritalStatus',\n",
       "       'MonthlyIncome'],\n",
       "      dtype='object')"
      ]
     },
     "execution_count": 104,
     "metadata": {},
     "output_type": "execute_result"
    }
   ],
   "source": [
    "df_train.columns"
   ]
  },
  {
   "cell_type": "code",
   "execution_count": 105,
   "id": "45d1013b",
   "metadata": {},
   "outputs": [
    {
     "data": {
      "text/plain": [
       "(2630, 21)"
      ]
     },
     "execution_count": 105,
     "metadata": {},
     "output_type": "execute_result"
    }
   ],
   "source": [
    "df_test.shape"
   ]
  },
  {
   "cell_type": "code",
   "execution_count": 106,
   "id": "2fbaf617",
   "metadata": {},
   "outputs": [
    {
     "data": {
      "text/plain": [
       "(5180, 22)"
      ]
     },
     "execution_count": 106,
     "metadata": {},
     "output_type": "execute_result"
    }
   ],
   "source": [
    "df_train.shape"
   ]
  },
  {
   "cell_type": "markdown",
   "id": "af52809f",
   "metadata": {},
   "source": [
    "# treating null values in train and test data"
   ]
  },
  {
   "cell_type": "code",
   "execution_count": 107,
   "id": "c8a1e02b",
   "metadata": {},
   "outputs": [
    {
     "data": {
      "text/plain": [
       "EmployeeID              0\n",
       "Attrition               0\n",
       "Age                   316\n",
       "TravelProfile           0\n",
       "Department            124\n",
       "HomeToWork            255\n",
       "EducationField          0\n",
       "Gender                 46\n",
       "HourlnWeek            287\n",
       "Involvement             0\n",
       "WorkLifeBalance         0\n",
       "Designation            38\n",
       "JobSatisfaction         0\n",
       "ESOPs                   0\n",
       "NumCompaniesWorked      0\n",
       "OverTime                0\n",
       "SalaryHikelastYear    169\n",
       "WorkExperience        187\n",
       "LastPromotion          70\n",
       "CurrentProfile        311\n",
       "MaritalStatus           0\n",
       "MonthlyIncome          93\n",
       "dtype: int64"
      ]
     },
     "execution_count": 107,
     "metadata": {},
     "output_type": "execute_result"
    }
   ],
   "source": [
    "df_train.isnull().sum()"
   ]
  },
  {
   "cell_type": "code",
   "execution_count": 108,
   "id": "3b0b5ddb",
   "metadata": {},
   "outputs": [
    {
     "data": {
      "text/html": [
       "<div>\n",
       "<style scoped>\n",
       "    .dataframe tbody tr th:only-of-type {\n",
       "        vertical-align: middle;\n",
       "    }\n",
       "\n",
       "    .dataframe tbody tr th {\n",
       "        vertical-align: top;\n",
       "    }\n",
       "\n",
       "    .dataframe thead th {\n",
       "        text-align: right;\n",
       "    }\n",
       "</style>\n",
       "<table border=\"1\" class=\"dataframe\">\n",
       "  <thead>\n",
       "    <tr style=\"text-align: right;\">\n",
       "      <th></th>\n",
       "      <th>EmployeeID</th>\n",
       "      <th>Attrition</th>\n",
       "      <th>Age</th>\n",
       "      <th>HomeToWork</th>\n",
       "      <th>HourlnWeek</th>\n",
       "      <th>Involvement</th>\n",
       "      <th>WorkLifeBalance</th>\n",
       "      <th>JobSatisfaction</th>\n",
       "      <th>ESOPs</th>\n",
       "      <th>NumCompaniesWorked</th>\n",
       "      <th>OverTime</th>\n",
       "      <th>SalaryHikelastYear</th>\n",
       "      <th>WorkExperience</th>\n",
       "      <th>LastPromotion</th>\n",
       "      <th>CurrentProfile</th>\n",
       "      <th>MonthlyIncome</th>\n",
       "    </tr>\n",
       "  </thead>\n",
       "  <tbody>\n",
       "    <tr>\n",
       "      <th>0</th>\n",
       "      <td>5110001.0</td>\n",
       "      <td>0.0</td>\n",
       "      <td>35.0</td>\n",
       "      <td>5.0</td>\n",
       "      <td>69.0</td>\n",
       "      <td>1.0</td>\n",
       "      <td>1.0</td>\n",
       "      <td>1.0</td>\n",
       "      <td>1.0</td>\n",
       "      <td>1.0</td>\n",
       "      <td>1.0</td>\n",
       "      <td>20.0</td>\n",
       "      <td>7.0</td>\n",
       "      <td>2.0</td>\n",
       "      <td>NaN</td>\n",
       "      <td>18932.0</td>\n",
       "    </tr>\n",
       "    <tr>\n",
       "      <th>1</th>\n",
       "      <td>5110002.0</td>\n",
       "      <td>1.0</td>\n",
       "      <td>32.0</td>\n",
       "      <td>5.0</td>\n",
       "      <td>62.0</td>\n",
       "      <td>4.0</td>\n",
       "      <td>3.0</td>\n",
       "      <td>2.0</td>\n",
       "      <td>0.0</td>\n",
       "      <td>8.0</td>\n",
       "      <td>0.0</td>\n",
       "      <td>20.0</td>\n",
       "      <td>4.0</td>\n",
       "      <td>1.0</td>\n",
       "      <td>NaN</td>\n",
       "      <td>18785.0</td>\n",
       "    </tr>\n",
       "    <tr>\n",
       "      <th>2</th>\n",
       "      <td>5110003.0</td>\n",
       "      <td>0.0</td>\n",
       "      <td>31.0</td>\n",
       "      <td>5.0</td>\n",
       "      <td>45.0</td>\n",
       "      <td>5.0</td>\n",
       "      <td>3.0</td>\n",
       "      <td>2.0</td>\n",
       "      <td>1.0</td>\n",
       "      <td>3.0</td>\n",
       "      <td>0.0</td>\n",
       "      <td>26.0</td>\n",
       "      <td>12.0</td>\n",
       "      <td>1.0</td>\n",
       "      <td>3.0</td>\n",
       "      <td>22091.0</td>\n",
       "    </tr>\n",
       "    <tr>\n",
       "      <th>3</th>\n",
       "      <td>5110004.0</td>\n",
       "      <td>0.0</td>\n",
       "      <td>34.0</td>\n",
       "      <td>10.0</td>\n",
       "      <td>32.0</td>\n",
       "      <td>3.0</td>\n",
       "      <td>2.0</td>\n",
       "      <td>4.0</td>\n",
       "      <td>1.0</td>\n",
       "      <td>1.0</td>\n",
       "      <td>0.0</td>\n",
       "      <td>23.0</td>\n",
       "      <td>5.0</td>\n",
       "      <td>1.0</td>\n",
       "      <td>3.0</td>\n",
       "      <td>20302.0</td>\n",
       "    </tr>\n",
       "    <tr>\n",
       "      <th>4</th>\n",
       "      <td>5110005.0</td>\n",
       "      <td>0.0</td>\n",
       "      <td>37.0</td>\n",
       "      <td>27.0</td>\n",
       "      <td>49.0</td>\n",
       "      <td>3.0</td>\n",
       "      <td>4.0</td>\n",
       "      <td>4.0</td>\n",
       "      <td>1.0</td>\n",
       "      <td>8.0</td>\n",
       "      <td>0.0</td>\n",
       "      <td>21.0</td>\n",
       "      <td>12.0</td>\n",
       "      <td>1.0</td>\n",
       "      <td>9.0</td>\n",
       "      <td>21674.0</td>\n",
       "    </tr>\n",
       "  </tbody>\n",
       "</table>\n",
       "</div>"
      ],
      "text/plain": [
       "   EmployeeID  Attrition   Age  HomeToWork  HourlnWeek  Involvement  \\\n",
       "0   5110001.0        0.0  35.0         5.0        69.0          1.0   \n",
       "1   5110002.0        1.0  32.0         5.0        62.0          4.0   \n",
       "2   5110003.0        0.0  31.0         5.0        45.0          5.0   \n",
       "3   5110004.0        0.0  34.0        10.0        32.0          3.0   \n",
       "4   5110005.0        0.0  37.0        27.0        49.0          3.0   \n",
       "\n",
       "   WorkLifeBalance  JobSatisfaction  ESOPs  NumCompaniesWorked  OverTime  \\\n",
       "0              1.0              1.0    1.0                 1.0       1.0   \n",
       "1              3.0              2.0    0.0                 8.0       0.0   \n",
       "2              3.0              2.0    1.0                 3.0       0.0   \n",
       "3              2.0              4.0    1.0                 1.0       0.0   \n",
       "4              4.0              4.0    1.0                 8.0       0.0   \n",
       "\n",
       "   SalaryHikelastYear  WorkExperience  LastPromotion  CurrentProfile  \\\n",
       "0                20.0             7.0            2.0             NaN   \n",
       "1                20.0             4.0            1.0             NaN   \n",
       "2                26.0            12.0            1.0             3.0   \n",
       "3                23.0             5.0            1.0             3.0   \n",
       "4                21.0            12.0            1.0             9.0   \n",
       "\n",
       "   MonthlyIncome  \n",
       "0        18932.0  \n",
       "1        18785.0  \n",
       "2        22091.0  \n",
       "3        20302.0  \n",
       "4        21674.0  "
      ]
     },
     "execution_count": 108,
     "metadata": {},
     "output_type": "execute_result"
    }
   ],
   "source": [
    "df_train.select_dtypes(include=np.number).head()"
   ]
  },
  {
   "cell_type": "markdown",
   "id": "e8a39218",
   "metadata": {},
   "source": [
    "we can take mean of Age,HomeToWork,HourlnWeek,SalaryHikelastYear, WorkExperience, LastPromotion,CurrentProfile, NumCompaniesWorked, MonthlyIncome to fill nan value"
   ]
  },
  {
   "cell_type": "markdown",
   "id": "c417f20b",
   "metadata": {},
   "source": [
    "we can take mode of Department, Gender, Designation to fill nan value"
   ]
  },
  {
   "cell_type": "code",
   "execution_count": 109,
   "id": "aaecc6ba",
   "metadata": {},
   "outputs": [],
   "source": [
    "df_train.replace('NaN',np.NaN,inplace=True)"
   ]
  },
  {
   "cell_type": "code",
   "execution_count": 110,
   "id": "57d976fd",
   "metadata": {},
   "outputs": [],
   "source": [
    "df_train['Age'].fillna(df_train['Age'].mean(),inplace=True)"
   ]
  },
  {
   "cell_type": "code",
   "execution_count": 111,
   "id": "f2d2c9b3",
   "metadata": {},
   "outputs": [],
   "source": [
    "df_train['HomeToWork'].fillna(df_train['HomeToWork'].mean(),inplace=True)"
   ]
  },
  {
   "cell_type": "code",
   "execution_count": 112,
   "id": "8940acc3",
   "metadata": {},
   "outputs": [],
   "source": [
    "df_train['HourlnWeek'].fillna(df_train['HourlnWeek'].mean(),inplace=True)"
   ]
  },
  {
   "cell_type": "code",
   "execution_count": 113,
   "id": "53142549",
   "metadata": {},
   "outputs": [],
   "source": [
    "df_train['SalaryHikelastYear'].fillna(df_train['SalaryHikelastYear'].mean(),inplace=True)"
   ]
  },
  {
   "cell_type": "code",
   "execution_count": 114,
   "id": "0b6a118b",
   "metadata": {},
   "outputs": [],
   "source": [
    "df_train['WorkExperience'].fillna(df_train['WorkExperience'].mean(),inplace=True)"
   ]
  },
  {
   "cell_type": "code",
   "execution_count": 115,
   "id": "d3820db0",
   "metadata": {},
   "outputs": [],
   "source": [
    "df_train['LastPromotion'].fillna(df_train['LastPromotion'].mean(),inplace=True)"
   ]
  },
  {
   "cell_type": "code",
   "execution_count": 116,
   "id": "9d7a4b61",
   "metadata": {},
   "outputs": [],
   "source": [
    "df_train['CurrentProfile'].fillna(df_train['CurrentProfile'].mean(),inplace=True)"
   ]
  },
  {
   "cell_type": "code",
   "execution_count": 117,
   "id": "becd7560",
   "metadata": {},
   "outputs": [],
   "source": [
    "df_train['MonthlyIncome'].fillna(df_train['MonthlyIncome'].mean(),inplace=True)"
   ]
  },
  {
   "cell_type": "code",
   "execution_count": 118,
   "id": "32d0c87f",
   "metadata": {},
   "outputs": [
    {
     "data": {
      "text/plain": [
       "Analytics    3219\n",
       "Sales        1615\n",
       "Marketing     222\n",
       "Name: Department, dtype: int64"
      ]
     },
     "execution_count": 118,
     "metadata": {},
     "output_type": "execute_result"
    }
   ],
   "source": [
    "df_train.Department.value_counts()"
   ]
  },
  {
   "cell_type": "code",
   "execution_count": 119,
   "id": "29884055",
   "metadata": {},
   "outputs": [
    {
     "data": {
      "text/plain": [
       "0    Analytics\n",
       "dtype: object"
      ]
     },
     "execution_count": 119,
     "metadata": {},
     "output_type": "execute_result"
    }
   ],
   "source": [
    "df_train['Department'].mode()"
   ]
  },
  {
   "cell_type": "code",
   "execution_count": 120,
   "id": "4cbb77f5",
   "metadata": {},
   "outputs": [],
   "source": [
    "df_train['Department'].fillna('Analytics',inplace=True)"
   ]
  },
  {
   "cell_type": "code",
   "execution_count": 121,
   "id": "f56c2997",
   "metadata": {},
   "outputs": [
    {
     "data": {
      "text/plain": [
       "Male      3094\n",
       "Female    1338\n",
       "F          702\n",
       "Name: Gender, dtype: int64"
      ]
     },
     "execution_count": 121,
     "metadata": {},
     "output_type": "execute_result"
    }
   ],
   "source": [
    "df_train.Gender.value_counts()"
   ]
  },
  {
   "cell_type": "code",
   "execution_count": 122,
   "id": "df42ef07",
   "metadata": {},
   "outputs": [],
   "source": [
    "df_train['Gender'].replace('F','Female',inplace=True)"
   ]
  },
  {
   "cell_type": "code",
   "execution_count": 123,
   "id": "0f1687d4",
   "metadata": {},
   "outputs": [],
   "source": [
    "df_train['Gender'].fillna('Male',inplace=True)"
   ]
  },
  {
   "cell_type": "code",
   "execution_count": 124,
   "id": "d00f95b9",
   "metadata": {},
   "outputs": [
    {
     "data": {
      "text/plain": [
       "Executive         2072\n",
       "Manager           1756\n",
       "Senior Manager     763\n",
       "AVP                328\n",
       "VP                 223\n",
       "Name: Designation, dtype: int64"
      ]
     },
     "execution_count": 124,
     "metadata": {},
     "output_type": "execute_result"
    }
   ],
   "source": [
    "df_train['Designation'].value_counts()"
   ]
  },
  {
   "cell_type": "code",
   "execution_count": 125,
   "id": "a8fc9e70",
   "metadata": {},
   "outputs": [
    {
     "data": {
      "text/plain": [
       "0    Executive\n",
       "dtype: object"
      ]
     },
     "execution_count": 125,
     "metadata": {},
     "output_type": "execute_result"
    }
   ],
   "source": [
    "df_train['Designation'].mode()"
   ]
  },
  {
   "cell_type": "code",
   "execution_count": 126,
   "id": "151ca70d",
   "metadata": {},
   "outputs": [],
   "source": [
    "df_train['Designation'].fillna('Executive',inplace=True)"
   ]
  },
  {
   "cell_type": "code",
   "execution_count": 127,
   "id": "3083c93e",
   "metadata": {},
   "outputs": [
    {
     "data": {
      "text/plain": [
       "Single      1776\n",
       "Married     1614\n",
       "Divorsed    1016\n",
       "M            774\n",
       "Name: MaritalStatus, dtype: int64"
      ]
     },
     "execution_count": 127,
     "metadata": {},
     "output_type": "execute_result"
    }
   ],
   "source": [
    "df_train['MaritalStatus'].value_counts()"
   ]
  },
  {
   "cell_type": "code",
   "execution_count": 128,
   "id": "85196504",
   "metadata": {},
   "outputs": [],
   "source": [
    "df_train['MaritalStatus'].replace('M','Married',inplace=True)"
   ]
  },
  {
   "cell_type": "code",
   "execution_count": 129,
   "id": "2fafd97a",
   "metadata": {},
   "outputs": [
    {
     "data": {
      "text/plain": [
       "EmployeeID            0\n",
       "Attrition             0\n",
       "Age                   0\n",
       "TravelProfile         0\n",
       "Department            0\n",
       "HomeToWork            0\n",
       "EducationField        0\n",
       "Gender                0\n",
       "HourlnWeek            0\n",
       "Involvement           0\n",
       "WorkLifeBalance       0\n",
       "Designation           0\n",
       "JobSatisfaction       0\n",
       "ESOPs                 0\n",
       "NumCompaniesWorked    0\n",
       "OverTime              0\n",
       "SalaryHikelastYear    0\n",
       "WorkExperience        0\n",
       "LastPromotion         0\n",
       "CurrentProfile        0\n",
       "MaritalStatus         0\n",
       "MonthlyIncome         0\n",
       "dtype: int64"
      ]
     },
     "execution_count": 129,
     "metadata": {},
     "output_type": "execute_result"
    }
   ],
   "source": [
    "df_train.isnull().sum()"
   ]
  },
  {
   "cell_type": "code",
   "execution_count": 130,
   "id": "f1ed879e",
   "metadata": {},
   "outputs": [
    {
     "data": {
      "text/plain": [
       "EmployeeID              0\n",
       "Age                   142\n",
       "TravelProfile           0\n",
       "Department             58\n",
       "HomeToWork            126\n",
       "EducationField          0\n",
       "Gender                 30\n",
       "HourlnWeek            136\n",
       "Involvement             0\n",
       "WorkLifeBalance         0\n",
       "Designation            30\n",
       "JobSatisfaction         0\n",
       "ESOPs                   0\n",
       "NumCompaniesWorked      0\n",
       "OverTime                0\n",
       "SalaryHikelastYear     94\n",
       "WorkExperience        122\n",
       "LastPromotion          57\n",
       "CurrentProfile        134\n",
       "MaritalStatus           0\n",
       "MonthlyIncome          33\n",
       "dtype: int64"
      ]
     },
     "execution_count": 130,
     "metadata": {},
     "output_type": "execute_result"
    }
   ],
   "source": [
    "df_test.isnull().sum()"
   ]
  },
  {
   "cell_type": "code",
   "execution_count": 131,
   "id": "44a4cf87",
   "metadata": {},
   "outputs": [],
   "source": [
    "df_test.replace('NaN',np.NaN,inplace=True)"
   ]
  },
  {
   "cell_type": "code",
   "execution_count": 132,
   "id": "e4bb98cc",
   "metadata": {},
   "outputs": [],
   "source": [
    "df_test['Age'].fillna(df_test['Age'].mean(),inplace=True)\n",
    "\n",
    "df_test['HomeToWork'].fillna(df_test['HomeToWork'].mean(),inplace=True)\n",
    "\n",
    "df_test['HourlnWeek'].fillna(df_test['HourlnWeek'].mean(),inplace=True)\n",
    "\n",
    "df_test['SalaryHikelastYear'].fillna(df_test['SalaryHikelastYear'].mean(),inplace=True)\n",
    "\n",
    "df_test['WorkExperience'].fillna(df_test['WorkExperience'].mean(),inplace=True)\n",
    "\n",
    "df_test['LastPromotion'].fillna(df_test['LastPromotion'].mean(),inplace=True)\n",
    "\n",
    "df_test['CurrentProfile'].fillna(df_test['CurrentProfile'].mean(),inplace=True)\n",
    "\n",
    "df_test['MonthlyIncome'].fillna(df_test['MonthlyIncome'].mean(),inplace=True)"
   ]
  },
  {
   "cell_type": "code",
   "execution_count": 133,
   "id": "5a97dc3b",
   "metadata": {},
   "outputs": [
    {
     "data": {
      "text/plain": [
       "Analytics    1675\n",
       "Sales         792\n",
       "Marketing     105\n",
       "Name: Department, dtype: int64"
      ]
     },
     "execution_count": 133,
     "metadata": {},
     "output_type": "execute_result"
    }
   ],
   "source": [
    "df_test.Department.value_counts()"
   ]
  },
  {
   "cell_type": "code",
   "execution_count": 134,
   "id": "810c956d",
   "metadata": {},
   "outputs": [
    {
     "data": {
      "text/plain": [
       "0    Analytics\n",
       "dtype: object"
      ]
     },
     "execution_count": 134,
     "metadata": {},
     "output_type": "execute_result"
    }
   ],
   "source": [
    "df_test['Department'].mode()"
   ]
  },
  {
   "cell_type": "code",
   "execution_count": 135,
   "id": "3897b5fd",
   "metadata": {},
   "outputs": [],
   "source": [
    "df_test['Department'].fillna('Analytics',inplace=True)"
   ]
  },
  {
   "cell_type": "code",
   "execution_count": 136,
   "id": "1f51410f",
   "metadata": {},
   "outputs": [
    {
     "data": {
      "text/plain": [
       "Male      1574\n",
       "Female     682\n",
       "F          344\n",
       "Name: Gender, dtype: int64"
      ]
     },
     "execution_count": 136,
     "metadata": {},
     "output_type": "execute_result"
    }
   ],
   "source": [
    "df_test.Gender.value_counts()"
   ]
  },
  {
   "cell_type": "code",
   "execution_count": 137,
   "id": "39baf6e4",
   "metadata": {},
   "outputs": [],
   "source": [
    "df_test['Gender'].replace('F','Female',inplace=True)"
   ]
  },
  {
   "cell_type": "code",
   "execution_count": 138,
   "id": "d455bce8",
   "metadata": {},
   "outputs": [],
   "source": [
    "df_test['Gender'].fillna('Male',inplace=True)"
   ]
  },
  {
   "cell_type": "code",
   "execution_count": 139,
   "id": "1eb37a49",
   "metadata": {},
   "outputs": [
    {
     "data": {
      "text/plain": [
       "Executive         993\n",
       "Manager           920\n",
       "Senior Manager    391\n",
       "AVP               179\n",
       "VP                117\n",
       "Name: Designation, dtype: int64"
      ]
     },
     "execution_count": 139,
     "metadata": {},
     "output_type": "execute_result"
    }
   ],
   "source": [
    "df_test['Designation'].value_counts()"
   ]
  },
  {
   "cell_type": "code",
   "execution_count": 140,
   "id": "4f65af9a",
   "metadata": {},
   "outputs": [],
   "source": [
    "df_test['Designation'].fillna('Executive',inplace=True)"
   ]
  },
  {
   "cell_type": "code",
   "execution_count": 141,
   "id": "6f694219",
   "metadata": {},
   "outputs": [
    {
     "data": {
      "text/plain": [
       "0    Executive\n",
       "dtype: object"
      ]
     },
     "execution_count": 141,
     "metadata": {},
     "output_type": "execute_result"
    }
   ],
   "source": [
    "df_test['Designation'].mode()"
   ]
  },
  {
   "cell_type": "code",
   "execution_count": 142,
   "id": "d7a642f8",
   "metadata": {},
   "outputs": [
    {
     "data": {
      "text/plain": [
       "Single      933\n",
       "Married     841\n",
       "Divorsed    477\n",
       "M           379\n",
       "Name: MaritalStatus, dtype: int64"
      ]
     },
     "execution_count": 142,
     "metadata": {},
     "output_type": "execute_result"
    }
   ],
   "source": [
    "df_test['MaritalStatus'].value_counts()"
   ]
  },
  {
   "cell_type": "code",
   "execution_count": 143,
   "id": "fdd295c4",
   "metadata": {},
   "outputs": [],
   "source": [
    "df_test['MaritalStatus'].replace('M','Married',inplace=True)"
   ]
  },
  {
   "cell_type": "code",
   "execution_count": 144,
   "id": "83a64967",
   "metadata": {},
   "outputs": [
    {
     "data": {
      "text/plain": [
       "EmployeeID            0\n",
       "Age                   0\n",
       "TravelProfile         0\n",
       "Department            0\n",
       "HomeToWork            0\n",
       "EducationField        0\n",
       "Gender                0\n",
       "HourlnWeek            0\n",
       "Involvement           0\n",
       "WorkLifeBalance       0\n",
       "Designation           0\n",
       "JobSatisfaction       0\n",
       "ESOPs                 0\n",
       "NumCompaniesWorked    0\n",
       "OverTime              0\n",
       "SalaryHikelastYear    0\n",
       "WorkExperience        0\n",
       "LastPromotion         0\n",
       "CurrentProfile        0\n",
       "MaritalStatus         0\n",
       "MonthlyIncome         0\n",
       "dtype: int64"
      ]
     },
     "execution_count": 144,
     "metadata": {},
     "output_type": "execute_result"
    }
   ],
   "source": [
    "df_test.isnull().sum()"
   ]
  },
  {
   "cell_type": "code",
   "execution_count": 145,
   "id": "cd3a957f",
   "metadata": {},
   "outputs": [
    {
     "data": {
      "text/plain": [
       "(5180, 22)"
      ]
     },
     "execution_count": 145,
     "metadata": {},
     "output_type": "execute_result"
    }
   ],
   "source": [
    "df_train.shape"
   ]
  },
  {
   "cell_type": "code",
   "execution_count": 146,
   "id": "1fe180d8",
   "metadata": {},
   "outputs": [
    {
     "data": {
      "text/plain": [
       "(2630, 21)"
      ]
     },
     "execution_count": 146,
     "metadata": {},
     "output_type": "execute_result"
    }
   ],
   "source": [
    "df_test.shape"
   ]
  },
  {
   "cell_type": "code",
   "execution_count": 147,
   "id": "8e518151",
   "metadata": {},
   "outputs": [
    {
     "data": {
      "text/plain": [
       "Index(['EmployeeID', 'Attrition', 'Age', 'TravelProfile', 'Department',\n",
       "       'HomeToWork', 'EducationField', 'Gender', 'HourlnWeek', 'Involvement',\n",
       "       'WorkLifeBalance', 'Designation', 'JobSatisfaction', 'ESOPs',\n",
       "       'NumCompaniesWorked', 'OverTime', 'SalaryHikelastYear',\n",
       "       'WorkExperience', 'LastPromotion', 'CurrentProfile', 'MaritalStatus',\n",
       "       'MonthlyIncome'],\n",
       "      dtype='object')"
      ]
     },
     "execution_count": 147,
     "metadata": {},
     "output_type": "execute_result"
    }
   ],
   "source": [
    "df_train.columns"
   ]
  },
  {
   "cell_type": "markdown",
   "id": "9aa1f92c",
   "metadata": {},
   "source": [
    "# Grouping age into A,B,C,D"
   ]
  },
  {
   "cell_type": "code",
   "execution_count": 148,
   "id": "3f8b1f22",
   "metadata": {},
   "outputs": [
    {
     "data": {
      "text/plain": [
       "B    2385\n",
       "A    1232\n",
       "C    1049\n",
       "D     514\n",
       "Name: Age_group, dtype: int64"
      ]
     },
     "execution_count": 148,
     "metadata": {},
     "output_type": "execute_result"
    }
   ],
   "source": [
    "df_train['Age_group']=['A' if  18<=i<31 else 'B' if 31<=i<41 else 'C' if 41<=i<51 else 'D' for i in df_train.Age]\n",
    "df_train.Age_group.value_counts()"
   ]
  },
  {
   "cell_type": "code",
   "execution_count": 149,
   "id": "a5a1a227",
   "metadata": {},
   "outputs": [
    {
     "data": {
      "text/plain": [
       "B    1148\n",
       "A     615\n",
       "C     585\n",
       "D     282\n",
       "Name: Age_group, dtype: int64"
      ]
     },
     "execution_count": 149,
     "metadata": {},
     "output_type": "execute_result"
    }
   ],
   "source": [
    "df_test['Age_group']=['A' if  18<=i<31 else 'B' if 31<=i<41 else 'C' if 41<=i<51 else 'D' for i in df_test.Age]\n",
    "df_test.Age_group.value_counts()"
   ]
  },
  {
   "cell_type": "markdown",
   "id": "4207f4c9",
   "metadata": {},
   "source": [
    "only outlier in employee id which is not required"
   ]
  },
  {
   "cell_type": "code",
   "execution_count": 150,
   "id": "5b309bb8",
   "metadata": {},
   "outputs": [],
   "source": [
    "df_train=df_train.drop(['EmployeeID'],axis=1)\n",
    "df_test=df_test.drop(['EmployeeID'],axis=1)\n",
    "df_train=df_train.drop(['Age'],axis=1)\n",
    "df_test=df_test.drop(['Age'],axis=1)\n"
   ]
  },
  {
   "cell_type": "code",
   "execution_count": 151,
   "id": "34823860",
   "metadata": {},
   "outputs": [],
   "source": [
    "#Q1=df_train.quantile(0.25)\n",
    "#Q3=df_train.quantile(0.75)\n",
    "#IQR=Q3-Q1\n",
    "#df_train=df_train[~((df_train < (Q1 - 1.5 * IQR)) | (df_train > (Q3 + 1.5 * IQR))).any(axis=1)]\n",
    "#df_train.head()"
   ]
  },
  {
   "cell_type": "code",
   "execution_count": 152,
   "id": "cc3848b9",
   "metadata": {},
   "outputs": [
    {
     "data": {
      "text/plain": [
       "Index(['Attrition', 'TravelProfile', 'Department', 'HomeToWork',\n",
       "       'EducationField', 'Gender', 'HourlnWeek', 'Involvement',\n",
       "       'WorkLifeBalance', 'Designation', 'JobSatisfaction', 'ESOPs',\n",
       "       'NumCompaniesWorked', 'OverTime', 'SalaryHikelastYear',\n",
       "       'WorkExperience', 'LastPromotion', 'CurrentProfile', 'MaritalStatus',\n",
       "       'MonthlyIncome', 'Age_group'],\n",
       "      dtype='object')"
      ]
     },
     "execution_count": 152,
     "metadata": {},
     "output_type": "execute_result"
    }
   ],
   "source": [
    "df_train.columns"
   ]
  },
  {
   "cell_type": "code",
   "execution_count": 153,
   "id": "f92566f9",
   "metadata": {},
   "outputs": [
    {
     "data": {
      "text/plain": [
       "(5180, 21)"
      ]
     },
     "execution_count": 153,
     "metadata": {},
     "output_type": "execute_result"
    }
   ],
   "source": [
    "df_train.shape"
   ]
  },
  {
   "cell_type": "code",
   "execution_count": 154,
   "id": "b68dc550",
   "metadata": {},
   "outputs": [
    {
     "data": {
      "text/plain": [
       "(2630, 20)"
      ]
     },
     "execution_count": 154,
     "metadata": {},
     "output_type": "execute_result"
    }
   ],
   "source": [
    "df_test.shape"
   ]
  },
  {
   "cell_type": "markdown",
   "id": "904c8a73",
   "metadata": {},
   "source": [
    "# checking correlation"
   ]
  },
  {
   "cell_type": "code",
   "execution_count": 156,
   "id": "739de568",
   "metadata": {},
   "outputs": [
    {
     "data": {
      "application/javascript": [
       "\n",
       "        if (window._pyforest_update_imports_cell) { window._pyforest_update_imports_cell('import seaborn as sns\\nfrom sklearn.ensemble import RandomForestRegressor\\nfrom sklearn.ensemble import RandomForestClassifier'); }\n",
       "    "
      ],
      "text/plain": [
       "<IPython.core.display.Javascript object>"
      ]
     },
     "metadata": {},
     "output_type": "display_data"
    },
    {
     "data": {
      "text/plain": [
       "<AxesSubplot:>"
      ]
     },
     "execution_count": 156,
     "metadata": {},
     "output_type": "execute_result"
    },
    {
     "data": {
      "image/png": "[encoded data removed]",
      "text/plain": [
       "<Figure size 1080x576 with 2 Axes>"
      ]
     },
     "metadata": {},
     "output_type": "display_data"
    }
   ],
   "source": [
    "plt.figure(figsize = (15,8))\n",
    "sns.heatmap(df_test.corr(),annot=True)"
   ]
  },
  {
   "cell_type": "markdown",
   "id": "6334f08b",
   "metadata": {},
   "source": [
    "# Scaling the numerical datas into standardize form"
   ]
  },
  {
   "cell_type": "code",
   "execution_count": 157,
   "id": "d72e0b3c",
   "metadata": {},
   "outputs": [
    {
     "data": {
      "text/html": [
       "<div>\n",
       "<style scoped>\n",
       "    .dataframe tbody tr th:only-of-type {\n",
       "        vertical-align: middle;\n",
       "    }\n",
       "\n",
       "    .dataframe tbody tr th {\n",
       "        vertical-align: top;\n",
       "    }\n",
       "\n",
       "    .dataframe thead th {\n",
       "        text-align: right;\n",
       "    }\n",
       "</style>\n",
       "<table border=\"1\" class=\"dataframe\">\n",
       "  <thead>\n",
       "    <tr style=\"text-align: right;\">\n",
       "      <th></th>\n",
       "      <th>HomeToWork</th>\n",
       "      <th>HourlnWeek</th>\n",
       "      <th>Involvement</th>\n",
       "      <th>WorkLifeBalance</th>\n",
       "      <th>JobSatisfaction</th>\n",
       "      <th>ESOPs</th>\n",
       "      <th>NumCompaniesWorked</th>\n",
       "      <th>OverTime</th>\n",
       "      <th>SalaryHikelastYear</th>\n",
       "      <th>WorkExperience</th>\n",
       "      <th>LastPromotion</th>\n",
       "      <th>CurrentProfile</th>\n",
       "      <th>MonthlyIncome</th>\n",
       "    </tr>\n",
       "  </thead>\n",
       "  <tbody>\n",
       "    <tr>\n",
       "      <th>0</th>\n",
       "      <td>5.0</td>\n",
       "      <td>69.0</td>\n",
       "      <td>1.0</td>\n",
       "      <td>1.0</td>\n",
       "      <td>1.0</td>\n",
       "      <td>1.0</td>\n",
       "      <td>1.0</td>\n",
       "      <td>1.0</td>\n",
       "      <td>20.0</td>\n",
       "      <td>7.0</td>\n",
       "      <td>2.0</td>\n",
       "      <td>4.385295</td>\n",
       "      <td>18932.0</td>\n",
       "    </tr>\n",
       "    <tr>\n",
       "      <th>1</th>\n",
       "      <td>5.0</td>\n",
       "      <td>62.0</td>\n",
       "      <td>4.0</td>\n",
       "      <td>3.0</td>\n",
       "      <td>2.0</td>\n",
       "      <td>0.0</td>\n",
       "      <td>8.0</td>\n",
       "      <td>0.0</td>\n",
       "      <td>20.0</td>\n",
       "      <td>4.0</td>\n",
       "      <td>1.0</td>\n",
       "      <td>4.385295</td>\n",
       "      <td>18785.0</td>\n",
       "    </tr>\n",
       "    <tr>\n",
       "      <th>2</th>\n",
       "      <td>5.0</td>\n",
       "      <td>45.0</td>\n",
       "      <td>5.0</td>\n",
       "      <td>3.0</td>\n",
       "      <td>2.0</td>\n",
       "      <td>1.0</td>\n",
       "      <td>3.0</td>\n",
       "      <td>0.0</td>\n",
       "      <td>26.0</td>\n",
       "      <td>12.0</td>\n",
       "      <td>1.0</td>\n",
       "      <td>3.000000</td>\n",
       "      <td>22091.0</td>\n",
       "    </tr>\n",
       "    <tr>\n",
       "      <th>3</th>\n",
       "      <td>10.0</td>\n",
       "      <td>32.0</td>\n",
       "      <td>3.0</td>\n",
       "      <td>2.0</td>\n",
       "      <td>4.0</td>\n",
       "      <td>1.0</td>\n",
       "      <td>1.0</td>\n",
       "      <td>0.0</td>\n",
       "      <td>23.0</td>\n",
       "      <td>5.0</td>\n",
       "      <td>1.0</td>\n",
       "      <td>3.000000</td>\n",
       "      <td>20302.0</td>\n",
       "    </tr>\n",
       "    <tr>\n",
       "      <th>4</th>\n",
       "      <td>27.0</td>\n",
       "      <td>49.0</td>\n",
       "      <td>3.0</td>\n",
       "      <td>4.0</td>\n",
       "      <td>4.0</td>\n",
       "      <td>1.0</td>\n",
       "      <td>8.0</td>\n",
       "      <td>0.0</td>\n",
       "      <td>21.0</td>\n",
       "      <td>12.0</td>\n",
       "      <td>1.0</td>\n",
       "      <td>9.000000</td>\n",
       "      <td>21674.0</td>\n",
       "    </tr>\n",
       "  </tbody>\n",
       "</table>\n",
       "</div>"
      ],
      "text/plain": [
       "   HomeToWork  HourlnWeek  Involvement  WorkLifeBalance  JobSatisfaction  \\\n",
       "0         5.0        69.0          1.0              1.0              1.0   \n",
       "1         5.0        62.0          4.0              3.0              2.0   \n",
       "2         5.0        45.0          5.0              3.0              2.0   \n",
       "3        10.0        32.0          3.0              2.0              4.0   \n",
       "4        27.0        49.0          3.0              4.0              4.0   \n",
       "\n",
       "   ESOPs  NumCompaniesWorked  OverTime  SalaryHikelastYear  WorkExperience  \\\n",
       "0    1.0                 1.0       1.0                20.0             7.0   \n",
       "1    0.0                 8.0       0.0                20.0             4.0   \n",
       "2    1.0                 3.0       0.0                26.0            12.0   \n",
       "3    1.0                 1.0       0.0                23.0             5.0   \n",
       "4    1.0                 8.0       0.0                21.0            12.0   \n",
       "\n",
       "   LastPromotion  CurrentProfile  MonthlyIncome  \n",
       "0            2.0        4.385295        18932.0  \n",
       "1            1.0        4.385295        18785.0  \n",
       "2            1.0        3.000000        22091.0  \n",
       "3            1.0        3.000000        20302.0  \n",
       "4            1.0        9.000000        21674.0  "
      ]
     },
     "execution_count": 157,
     "metadata": {},
     "output_type": "execute_result"
    }
   ],
   "source": [
    "df_train_number=df_train[['HomeToWork', 'HourlnWeek', 'Involvement',\n",
    "       'WorkLifeBalance', 'JobSatisfaction', 'ESOPs',\n",
    "       'NumCompaniesWorked', 'OverTime', 'SalaryHikelastYear',\n",
    "       'WorkExperience', 'LastPromotion', 'CurrentProfile',\n",
    "       'MonthlyIncome']]\n",
    "df_train_number.head()"
   ]
  },
  {
   "cell_type": "code",
   "execution_count": 158,
   "id": "e0763041",
   "metadata": {},
   "outputs": [
    {
     "data": {
      "text/html": [
       "<div>\n",
       "<style scoped>\n",
       "    .dataframe tbody tr th:only-of-type {\n",
       "        vertical-align: middle;\n",
       "    }\n",
       "\n",
       "    .dataframe tbody tr th {\n",
       "        vertical-align: top;\n",
       "    }\n",
       "\n",
       "    .dataframe thead th {\n",
       "        text-align: right;\n",
       "    }\n",
       "</style>\n",
       "<table border=\"1\" class=\"dataframe\">\n",
       "  <thead>\n",
       "    <tr style=\"text-align: right;\">\n",
       "      <th></th>\n",
       "      <th>HomeToWork</th>\n",
       "      <th>HourlnWeek</th>\n",
       "      <th>Involvement</th>\n",
       "      <th>WorkLifeBalance</th>\n",
       "      <th>JobSatisfaction</th>\n",
       "      <th>ESOPs</th>\n",
       "      <th>NumCompaniesWorked</th>\n",
       "      <th>OverTime</th>\n",
       "      <th>SalaryHikelastYear</th>\n",
       "      <th>WorkExperience</th>\n",
       "      <th>LastPromotion</th>\n",
       "      <th>CurrentProfile</th>\n",
       "      <th>MonthlyIncome</th>\n",
       "    </tr>\n",
       "  </thead>\n",
       "  <tbody>\n",
       "    <tr>\n",
       "      <th>0</th>\n",
       "      <td>-0.740761</td>\n",
       "      <td>0.872445</td>\n",
       "      <td>-2.552226</td>\n",
       "      <td>-1.426867</td>\n",
       "      <td>-1.596991</td>\n",
       "      <td>1.019003</td>\n",
       "      <td>-0.827823</td>\n",
       "      <td>1.479606</td>\n",
       "      <td>-0.178130</td>\n",
       "      <td>-0.544147</td>\n",
       "      <td>-0.172088</td>\n",
       "      <td>-6.330852e-15</td>\n",
       "      <td>-0.583867</td>\n",
       "    </tr>\n",
       "    <tr>\n",
       "      <th>1</th>\n",
       "      <td>-0.740761</td>\n",
       "      <td>0.318272</td>\n",
       "      <td>0.886441</td>\n",
       "      <td>-0.009033</td>\n",
       "      <td>-0.852265</td>\n",
       "      <td>-0.981162</td>\n",
       "      <td>1.858249</td>\n",
       "      <td>-0.675725</td>\n",
       "      <td>-0.178130</td>\n",
       "      <td>-0.936011</td>\n",
       "      <td>-0.483368</td>\n",
       "      <td>-6.330852e-15</td>\n",
       "      <td>-0.614961</td>\n",
       "    </tr>\n",
       "    <tr>\n",
       "      <th>2</th>\n",
       "      <td>-0.740761</td>\n",
       "      <td>-1.027577</td>\n",
       "      <td>2.032664</td>\n",
       "      <td>-0.009033</td>\n",
       "      <td>-0.852265</td>\n",
       "      <td>1.019003</td>\n",
       "      <td>-0.060374</td>\n",
       "      <td>-0.675725</td>\n",
       "      <td>1.467738</td>\n",
       "      <td>0.108960</td>\n",
       "      <td>-0.483368</td>\n",
       "      <td>-3.949700e-01</td>\n",
       "      <td>0.084335</td>\n",
       "    </tr>\n",
       "    <tr>\n",
       "      <th>3</th>\n",
       "      <td>-0.134317</td>\n",
       "      <td>-2.056756</td>\n",
       "      <td>-0.259781</td>\n",
       "      <td>-0.717950</td>\n",
       "      <td>0.637186</td>\n",
       "      <td>1.019003</td>\n",
       "      <td>-0.827823</td>\n",
       "      <td>-0.675725</td>\n",
       "      <td>0.644804</td>\n",
       "      <td>-0.805390</td>\n",
       "      <td>-0.483368</td>\n",
       "      <td>-3.949700e-01</td>\n",
       "      <td>-0.294080</td>\n",
       "    </tr>\n",
       "    <tr>\n",
       "      <th>4</th>\n",
       "      <td>1.927593</td>\n",
       "      <td>-0.710907</td>\n",
       "      <td>-0.259781</td>\n",
       "      <td>0.699885</td>\n",
       "      <td>0.637186</td>\n",
       "      <td>1.019003</td>\n",
       "      <td>1.858249</td>\n",
       "      <td>-0.675725</td>\n",
       "      <td>0.096181</td>\n",
       "      <td>0.108960</td>\n",
       "      <td>-0.483368</td>\n",
       "      <td>1.315727e+00</td>\n",
       "      <td>-0.003870</td>\n",
       "    </tr>\n",
       "  </tbody>\n",
       "</table>\n",
       "</div>"
      ],
      "text/plain": [
       "   HomeToWork  HourlnWeek  Involvement  WorkLifeBalance  JobSatisfaction  \\\n",
       "0   -0.740761    0.872445    -2.552226        -1.426867        -1.596991   \n",
       "1   -0.740761    0.318272     0.886441        -0.009033        -0.852265   \n",
       "2   -0.740761   -1.027577     2.032664        -0.009033        -0.852265   \n",
       "3   -0.134317   -2.056756    -0.259781        -0.717950         0.637186   \n",
       "4    1.927593   -0.710907    -0.259781         0.699885         0.637186   \n",
       "\n",
       "      ESOPs  NumCompaniesWorked  OverTime  SalaryHikelastYear  WorkExperience  \\\n",
       "0  1.019003           -0.827823  1.479606           -0.178130       -0.544147   \n",
       "1 -0.981162            1.858249 -0.675725           -0.178130       -0.936011   \n",
       "2  1.019003           -0.060374 -0.675725            1.467738        0.108960   \n",
       "3  1.019003           -0.827823 -0.675725            0.644804       -0.805390   \n",
       "4  1.019003            1.858249 -0.675725            0.096181        0.108960   \n",
       "\n",
       "   LastPromotion  CurrentProfile  MonthlyIncome  \n",
       "0      -0.172088   -6.330852e-15      -0.583867  \n",
       "1      -0.483368   -6.330852e-15      -0.614961  \n",
       "2      -0.483368   -3.949700e-01       0.084335  \n",
       "3      -0.483368   -3.949700e-01      -0.294080  \n",
       "4      -0.483368    1.315727e+00      -0.003870  "
      ]
     },
     "execution_count": 158,
     "metadata": {},
     "output_type": "execute_result"
    }
   ],
   "source": [
    "df_train_number = df_train_number.apply(lambda rec: (rec - rec.mean()) / rec.std())\n",
    "df_train_number.head()"
   ]
  },
  {
   "cell_type": "code",
   "execution_count": 159,
   "id": "9c9f1d61",
   "metadata": {},
   "outputs": [
    {
     "data": {
      "text/html": [
       "<div>\n",
       "<style scoped>\n",
       "    .dataframe tbody tr th:only-of-type {\n",
       "        vertical-align: middle;\n",
       "    }\n",
       "\n",
       "    .dataframe tbody tr th {\n",
       "        vertical-align: top;\n",
       "    }\n",
       "\n",
       "    .dataframe thead th {\n",
       "        text-align: right;\n",
       "    }\n",
       "</style>\n",
       "<table border=\"1\" class=\"dataframe\">\n",
       "  <thead>\n",
       "    <tr style=\"text-align: right;\">\n",
       "      <th></th>\n",
       "      <th>HomeToWork</th>\n",
       "      <th>HourlnWeek</th>\n",
       "      <th>Involvement</th>\n",
       "      <th>WorkLifeBalance</th>\n",
       "      <th>JobSatisfaction</th>\n",
       "      <th>ESOPs</th>\n",
       "      <th>NumCompaniesWorked</th>\n",
       "      <th>OverTime</th>\n",
       "      <th>SalaryHikelastYear</th>\n",
       "      <th>WorkExperience</th>\n",
       "      <th>LastPromotion</th>\n",
       "      <th>CurrentProfile</th>\n",
       "      <th>MonthlyIncome</th>\n",
       "    </tr>\n",
       "  </thead>\n",
       "  <tbody>\n",
       "    <tr>\n",
       "      <th>0</th>\n",
       "      <td>9.0</td>\n",
       "      <td>80.0</td>\n",
       "      <td>3</td>\n",
       "      <td>2</td>\n",
       "      <td>3</td>\n",
       "      <td>1</td>\n",
       "      <td>1</td>\n",
       "      <td>0</td>\n",
       "      <td>17.0</td>\n",
       "      <td>0.0</td>\n",
       "      <td>0.0</td>\n",
       "      <td>0.000000</td>\n",
       "      <td>16904.0</td>\n",
       "    </tr>\n",
       "    <tr>\n",
       "      <th>1</th>\n",
       "      <td>28.0</td>\n",
       "      <td>59.0</td>\n",
       "      <td>1</td>\n",
       "      <td>3</td>\n",
       "      <td>1</td>\n",
       "      <td>1</td>\n",
       "      <td>2</td>\n",
       "      <td>1</td>\n",
       "      <td>18.0</td>\n",
       "      <td>2.0</td>\n",
       "      <td>1.0</td>\n",
       "      <td>4.506811</td>\n",
       "      <td>18994.0</td>\n",
       "    </tr>\n",
       "    <tr>\n",
       "      <th>2</th>\n",
       "      <td>19.0</td>\n",
       "      <td>76.0</td>\n",
       "      <td>3</td>\n",
       "      <td>3</td>\n",
       "      <td>5</td>\n",
       "      <td>0</td>\n",
       "      <td>5</td>\n",
       "      <td>1</td>\n",
       "      <td>22.0</td>\n",
       "      <td>18.0</td>\n",
       "      <td>3.0</td>\n",
       "      <td>3.000000</td>\n",
       "      <td>18587.0</td>\n",
       "    </tr>\n",
       "    <tr>\n",
       "      <th>3</th>\n",
       "      <td>23.0</td>\n",
       "      <td>73.0</td>\n",
       "      <td>5</td>\n",
       "      <td>2</td>\n",
       "      <td>3</td>\n",
       "      <td>0</td>\n",
       "      <td>4</td>\n",
       "      <td>1</td>\n",
       "      <td>17.0</td>\n",
       "      <td>5.0</td>\n",
       "      <td>3.0</td>\n",
       "      <td>3.000000</td>\n",
       "      <td>20559.0</td>\n",
       "    </tr>\n",
       "    <tr>\n",
       "      <th>4</th>\n",
       "      <td>7.0</td>\n",
       "      <td>42.0</td>\n",
       "      <td>4</td>\n",
       "      <td>1</td>\n",
       "      <td>5</td>\n",
       "      <td>1</td>\n",
       "      <td>4</td>\n",
       "      <td>0</td>\n",
       "      <td>20.0</td>\n",
       "      <td>9.0</td>\n",
       "      <td>1.0</td>\n",
       "      <td>7.000000</td>\n",
       "      <td>24991.0</td>\n",
       "    </tr>\n",
       "  </tbody>\n",
       "</table>\n",
       "</div>"
      ],
      "text/plain": [
       "   HomeToWork  HourlnWeek  Involvement  WorkLifeBalance  JobSatisfaction  \\\n",
       "0         9.0        80.0            3                2                3   \n",
       "1        28.0        59.0            1                3                1   \n",
       "2        19.0        76.0            3                3                5   \n",
       "3        23.0        73.0            5                2                3   \n",
       "4         7.0        42.0            4                1                5   \n",
       "\n",
       "   ESOPs  NumCompaniesWorked  OverTime  SalaryHikelastYear  WorkExperience  \\\n",
       "0      1                   1         0                17.0             0.0   \n",
       "1      1                   2         1                18.0             2.0   \n",
       "2      0                   5         1                22.0            18.0   \n",
       "3      0                   4         1                17.0             5.0   \n",
       "4      1                   4         0                20.0             9.0   \n",
       "\n",
       "   LastPromotion  CurrentProfile  MonthlyIncome  \n",
       "0            0.0        0.000000        16904.0  \n",
       "1            1.0        4.506811        18994.0  \n",
       "2            3.0        3.000000        18587.0  \n",
       "3            3.0        3.000000        20559.0  \n",
       "4            1.0        7.000000        24991.0  "
      ]
     },
     "execution_count": 159,
     "metadata": {},
     "output_type": "execute_result"
    }
   ],
   "source": [
    "df_test_number=df_test[['HomeToWork', 'HourlnWeek', 'Involvement',\n",
    "       'WorkLifeBalance', 'JobSatisfaction', 'ESOPs',\n",
    "       'NumCompaniesWorked', 'OverTime', 'SalaryHikelastYear',\n",
    "       'WorkExperience', 'LastPromotion', 'CurrentProfile',\n",
    "       'MonthlyIncome']]\n",
    "df_test_number.head()"
   ]
  },
  {
   "cell_type": "code",
   "execution_count": 160,
   "id": "f718e72c",
   "metadata": {},
   "outputs": [
    {
     "data": {
      "text/html": [
       "<div>\n",
       "<style scoped>\n",
       "    .dataframe tbody tr th:only-of-type {\n",
       "        vertical-align: middle;\n",
       "    }\n",
       "\n",
       "    .dataframe tbody tr th {\n",
       "        vertical-align: top;\n",
       "    }\n",
       "\n",
       "    .dataframe thead th {\n",
       "        text-align: right;\n",
       "    }\n",
       "</style>\n",
       "<table border=\"1\" class=\"dataframe\">\n",
       "  <thead>\n",
       "    <tr style=\"text-align: right;\">\n",
       "      <th></th>\n",
       "      <th>HomeToWork</th>\n",
       "      <th>HourlnWeek</th>\n",
       "      <th>Involvement</th>\n",
       "      <th>WorkLifeBalance</th>\n",
       "      <th>JobSatisfaction</th>\n",
       "      <th>ESOPs</th>\n",
       "      <th>NumCompaniesWorked</th>\n",
       "      <th>OverTime</th>\n",
       "      <th>SalaryHikelastYear</th>\n",
       "      <th>WorkExperience</th>\n",
       "      <th>LastPromotion</th>\n",
       "      <th>CurrentProfile</th>\n",
       "      <th>MonthlyIncome</th>\n",
       "    </tr>\n",
       "  </thead>\n",
       "  <tbody>\n",
       "    <tr>\n",
       "      <th>0</th>\n",
       "      <td>-0.281237</td>\n",
       "      <td>1.717670</td>\n",
       "      <td>-0.270935</td>\n",
       "      <td>-0.754791</td>\n",
       "      <td>-0.086405</td>\n",
       "      <td>0.989974</td>\n",
       "      <td>-0.834486</td>\n",
       "      <td>-0.701737</td>\n",
       "      <td>-0.994128</td>\n",
       "      <td>-1.452568</td>\n",
       "      <td>-0.814416</td>\n",
       "      <td>-1.290295e+00</td>\n",
       "      <td>-0.972232</td>\n",
       "    </tr>\n",
       "    <tr>\n",
       "      <th>1</th>\n",
       "      <td>1.919445</td>\n",
       "      <td>0.088203</td>\n",
       "      <td>-2.533026</td>\n",
       "      <td>-0.048852</td>\n",
       "      <td>-1.581442</td>\n",
       "      <td>0.989974</td>\n",
       "      <td>-0.459067</td>\n",
       "      <td>1.424494</td>\n",
       "      <td>-0.720778</td>\n",
       "      <td>-1.200507</td>\n",
       "      <td>-0.508371</td>\n",
       "      <td>2.797128e-15</td>\n",
       "      <td>-0.559234</td>\n",
       "    </tr>\n",
       "    <tr>\n",
       "      <th>2</th>\n",
       "      <td>0.877016</td>\n",
       "      <td>1.407296</td>\n",
       "      <td>-0.270935</td>\n",
       "      <td>-0.048852</td>\n",
       "      <td>1.408632</td>\n",
       "      <td>-1.009743</td>\n",
       "      <td>0.667189</td>\n",
       "      <td>1.424494</td>\n",
       "      <td>0.372623</td>\n",
       "      <td>0.815983</td>\n",
       "      <td>0.103720</td>\n",
       "      <td>-4.313981e-01</td>\n",
       "      <td>-0.639660</td>\n",
       "    </tr>\n",
       "    <tr>\n",
       "      <th>3</th>\n",
       "      <td>1.340318</td>\n",
       "      <td>1.174515</td>\n",
       "      <td>1.991156</td>\n",
       "      <td>-0.754791</td>\n",
       "      <td>-0.086405</td>\n",
       "      <td>-1.009743</td>\n",
       "      <td>0.291770</td>\n",
       "      <td>1.424494</td>\n",
       "      <td>-0.994128</td>\n",
       "      <td>-0.822415</td>\n",
       "      <td>0.103720</td>\n",
       "      <td>-4.313981e-01</td>\n",
       "      <td>-0.249980</td>\n",
       "    </tr>\n",
       "    <tr>\n",
       "      <th>4</th>\n",
       "      <td>-0.512888</td>\n",
       "      <td>-1.230890</td>\n",
       "      <td>0.860111</td>\n",
       "      <td>-1.460731</td>\n",
       "      <td>1.408632</td>\n",
       "      <td>0.989974</td>\n",
       "      <td>0.291770</td>\n",
       "      <td>-0.701737</td>\n",
       "      <td>-0.174078</td>\n",
       "      <td>-0.318293</td>\n",
       "      <td>-0.508371</td>\n",
       "      <td>7.137970e-01</td>\n",
       "      <td>0.625812</td>\n",
       "    </tr>\n",
       "  </tbody>\n",
       "</table>\n",
       "</div>"
      ],
      "text/plain": [
       "   HomeToWork  HourlnWeek  Involvement  WorkLifeBalance  JobSatisfaction  \\\n",
       "0   -0.281237    1.717670    -0.270935        -0.754791        -0.086405   \n",
       "1    1.919445    0.088203    -2.533026        -0.048852        -1.581442   \n",
       "2    0.877016    1.407296    -0.270935        -0.048852         1.408632   \n",
       "3    1.340318    1.174515     1.991156        -0.754791        -0.086405   \n",
       "4   -0.512888   -1.230890     0.860111        -1.460731         1.408632   \n",
       "\n",
       "      ESOPs  NumCompaniesWorked  OverTime  SalaryHikelastYear  WorkExperience  \\\n",
       "0  0.989974           -0.834486 -0.701737           -0.994128       -1.452568   \n",
       "1  0.989974           -0.459067  1.424494           -0.720778       -1.200507   \n",
       "2 -1.009743            0.667189  1.424494            0.372623        0.815983   \n",
       "3 -1.009743            0.291770  1.424494           -0.994128       -0.822415   \n",
       "4  0.989974            0.291770 -0.701737           -0.174078       -0.318293   \n",
       "\n",
       "   LastPromotion  CurrentProfile  MonthlyIncome  \n",
       "0      -0.814416   -1.290295e+00      -0.972232  \n",
       "1      -0.508371    2.797128e-15      -0.559234  \n",
       "2       0.103720   -4.313981e-01      -0.639660  \n",
       "3       0.103720   -4.313981e-01      -0.249980  \n",
       "4      -0.508371    7.137970e-01       0.625812  "
      ]
     },
     "execution_count": 160,
     "metadata": {},
     "output_type": "execute_result"
    }
   ],
   "source": [
    "df_test_number = df_test_number.apply(lambda rec: (rec - rec.mean()) / rec.std())\n",
    "df_test_number.head()"
   ]
  },
  {
   "cell_type": "markdown",
   "id": "0576cf6b",
   "metadata": {},
   "source": [
    "# Encoding the Categorical Datas"
   ]
  },
  {
   "cell_type": "code",
   "execution_count": 161,
   "id": "9ac106d3",
   "metadata": {},
   "outputs": [],
   "source": [
    "le = preprocessing.LabelEncoder()"
   ]
  },
  {
   "cell_type": "code",
   "execution_count": 162,
   "id": "42e5a2a1",
   "metadata": {},
   "outputs": [
    {
     "name": "stderr",
     "output_type": "stream",
     "text": [
      "<ipython-input-162-256dc80e9bf3>:1: DeprecationWarning: `np.object` is a deprecated alias for the builtin `object`. To silence this warning, use `object` by itself. Doing this will not modify any behavior and is safe. \n",
      "Deprecated in NumPy 1.20; for more details and guidance: https://numpy.org/devdocs/release/1.20.0-notes.html#deprecations\n",
      "  df_train.select_dtypes(include=np.object).columns\n"
     ]
    },
    {
     "data": {
      "text/plain": [
       "Index(['TravelProfile', 'Department', 'EducationField', 'Gender',\n",
       "       'Designation', 'MaritalStatus', 'Age_group'],\n",
       "      dtype='object')"
      ]
     },
     "execution_count": 162,
     "metadata": {},
     "output_type": "execute_result"
    }
   ],
   "source": [
    "df_train.select_dtypes(include=np.object).columns"
   ]
  },
  {
   "cell_type": "code",
   "execution_count": 163,
   "id": "f39f080b",
   "metadata": {},
   "outputs": [],
   "source": [
    "df_train.TravelProfile = le.fit_transform(df_train.TravelProfile)\n",
    "df_train.Department = le.fit_transform(df_train.Department)\n",
    "df_train.EducationField = le.fit_transform(df_train.EducationField)\n",
    "df_train.Gender = le.fit_transform(df_train.Gender)\n",
    "df_train.Designation = le.fit_transform(df_train.Designation)\n",
    "df_train.MaritalStatus = le.fit_transform(df_train.MaritalStatus)\n",
    "df_train.Age_group = le.fit_transform(df_train.Age_group)"
   ]
  },
  {
   "cell_type": "code",
   "execution_count": 164,
   "id": "a06be40f",
   "metadata": {},
   "outputs": [
    {
     "data": {
      "text/html": [
       "<div>\n",
       "<style scoped>\n",
       "    .dataframe tbody tr th:only-of-type {\n",
       "        vertical-align: middle;\n",
       "    }\n",
       "\n",
       "    .dataframe tbody tr th {\n",
       "        vertical-align: top;\n",
       "    }\n",
       "\n",
       "    .dataframe thead th {\n",
       "        text-align: right;\n",
       "    }\n",
       "</style>\n",
       "<table border=\"1\" class=\"dataframe\">\n",
       "  <thead>\n",
       "    <tr style=\"text-align: right;\">\n",
       "      <th></th>\n",
       "      <th>Attrition</th>\n",
       "      <th>TravelProfile</th>\n",
       "      <th>Department</th>\n",
       "      <th>HomeToWork</th>\n",
       "      <th>EducationField</th>\n",
       "      <th>Gender</th>\n",
       "      <th>HourlnWeek</th>\n",
       "      <th>Involvement</th>\n",
       "      <th>WorkLifeBalance</th>\n",
       "      <th>Designation</th>\n",
       "      <th>...</th>\n",
       "      <th>ESOPs</th>\n",
       "      <th>NumCompaniesWorked</th>\n",
       "      <th>OverTime</th>\n",
       "      <th>SalaryHikelastYear</th>\n",
       "      <th>WorkExperience</th>\n",
       "      <th>LastPromotion</th>\n",
       "      <th>CurrentProfile</th>\n",
       "      <th>MaritalStatus</th>\n",
       "      <th>MonthlyIncome</th>\n",
       "      <th>Age_group</th>\n",
       "    </tr>\n",
       "  </thead>\n",
       "  <tbody>\n",
       "    <tr>\n",
       "      <th>0</th>\n",
       "      <td>0.0</td>\n",
       "      <td>1</td>\n",
       "      <td>0</td>\n",
       "      <td>5.0</td>\n",
       "      <td>0</td>\n",
       "      <td>1</td>\n",
       "      <td>69.0</td>\n",
       "      <td>1.0</td>\n",
       "      <td>1.0</td>\n",
       "      <td>1</td>\n",
       "      <td>...</td>\n",
       "      <td>1.0</td>\n",
       "      <td>1.0</td>\n",
       "      <td>1.0</td>\n",
       "      <td>20.0</td>\n",
       "      <td>7.0</td>\n",
       "      <td>2.0</td>\n",
       "      <td>4.385295</td>\n",
       "      <td>1</td>\n",
       "      <td>18932.0</td>\n",
       "      <td>1</td>\n",
       "    </tr>\n",
       "    <tr>\n",
       "      <th>1</th>\n",
       "      <td>1.0</td>\n",
       "      <td>2</td>\n",
       "      <td>2</td>\n",
       "      <td>5.0</td>\n",
       "      <td>5</td>\n",
       "      <td>0</td>\n",
       "      <td>62.0</td>\n",
       "      <td>4.0</td>\n",
       "      <td>3.0</td>\n",
       "      <td>1</td>\n",
       "      <td>...</td>\n",
       "      <td>0.0</td>\n",
       "      <td>8.0</td>\n",
       "      <td>0.0</td>\n",
       "      <td>20.0</td>\n",
       "      <td>4.0</td>\n",
       "      <td>1.0</td>\n",
       "      <td>4.385295</td>\n",
       "      <td>2</td>\n",
       "      <td>18785.0</td>\n",
       "      <td>1</td>\n",
       "    </tr>\n",
       "    <tr>\n",
       "      <th>2</th>\n",
       "      <td>0.0</td>\n",
       "      <td>1</td>\n",
       "      <td>0</td>\n",
       "      <td>5.0</td>\n",
       "      <td>5</td>\n",
       "      <td>0</td>\n",
       "      <td>45.0</td>\n",
       "      <td>5.0</td>\n",
       "      <td>3.0</td>\n",
       "      <td>2</td>\n",
       "      <td>...</td>\n",
       "      <td>1.0</td>\n",
       "      <td>3.0</td>\n",
       "      <td>0.0</td>\n",
       "      <td>26.0</td>\n",
       "      <td>12.0</td>\n",
       "      <td>1.0</td>\n",
       "      <td>3.000000</td>\n",
       "      <td>2</td>\n",
       "      <td>22091.0</td>\n",
       "      <td>1</td>\n",
       "    </tr>\n",
       "    <tr>\n",
       "      <th>3</th>\n",
       "      <td>0.0</td>\n",
       "      <td>2</td>\n",
       "      <td>2</td>\n",
       "      <td>10.0</td>\n",
       "      <td>5</td>\n",
       "      <td>0</td>\n",
       "      <td>32.0</td>\n",
       "      <td>3.0</td>\n",
       "      <td>2.0</td>\n",
       "      <td>2</td>\n",
       "      <td>...</td>\n",
       "      <td>1.0</td>\n",
       "      <td>1.0</td>\n",
       "      <td>0.0</td>\n",
       "      <td>23.0</td>\n",
       "      <td>5.0</td>\n",
       "      <td>1.0</td>\n",
       "      <td>3.000000</td>\n",
       "      <td>0</td>\n",
       "      <td>20302.0</td>\n",
       "      <td>1</td>\n",
       "    </tr>\n",
       "    <tr>\n",
       "      <th>4</th>\n",
       "      <td>0.0</td>\n",
       "      <td>0</td>\n",
       "      <td>0</td>\n",
       "      <td>27.0</td>\n",
       "      <td>5</td>\n",
       "      <td>0</td>\n",
       "      <td>49.0</td>\n",
       "      <td>3.0</td>\n",
       "      <td>4.0</td>\n",
       "      <td>2</td>\n",
       "      <td>...</td>\n",
       "      <td>1.0</td>\n",
       "      <td>8.0</td>\n",
       "      <td>0.0</td>\n",
       "      <td>21.0</td>\n",
       "      <td>12.0</td>\n",
       "      <td>1.0</td>\n",
       "      <td>9.000000</td>\n",
       "      <td>0</td>\n",
       "      <td>21674.0</td>\n",
       "      <td>1</td>\n",
       "    </tr>\n",
       "  </tbody>\n",
       "</table>\n",
       "<p>5 rows × 21 columns</p>\n",
       "</div>"
      ],
      "text/plain": [
       "   Attrition  TravelProfile  Department  HomeToWork  EducationField  Gender  \\\n",
       "0        0.0              1           0         5.0               0       1   \n",
       "1        1.0              2           2         5.0               5       0   \n",
       "2        0.0              1           0         5.0               5       0   \n",
       "3        0.0              2           2        10.0               5       0   \n",
       "4        0.0              0           0        27.0               5       0   \n",
       "\n",
       "   HourlnWeek  Involvement  WorkLifeBalance  Designation  ...  ESOPs  \\\n",
       "0        69.0          1.0              1.0            1  ...    1.0   \n",
       "1        62.0          4.0              3.0            1  ...    0.0   \n",
       "2        45.0          5.0              3.0            2  ...    1.0   \n",
       "3        32.0          3.0              2.0            2  ...    1.0   \n",
       "4        49.0          3.0              4.0            2  ...    1.0   \n",
       "\n",
       "   NumCompaniesWorked  OverTime  SalaryHikelastYear  WorkExperience  \\\n",
       "0                 1.0       1.0                20.0             7.0   \n",
       "1                 8.0       0.0                20.0             4.0   \n",
       "2                 3.0       0.0                26.0            12.0   \n",
       "3                 1.0       0.0                23.0             5.0   \n",
       "4                 8.0       0.0                21.0            12.0   \n",
       "\n",
       "   LastPromotion  CurrentProfile  MaritalStatus  MonthlyIncome  Age_group  \n",
       "0            2.0        4.385295              1        18932.0          1  \n",
       "1            1.0        4.385295              2        18785.0          1  \n",
       "2            1.0        3.000000              2        22091.0          1  \n",
       "3            1.0        3.000000              0        20302.0          1  \n",
       "4            1.0        9.000000              0        21674.0          1  \n",
       "\n",
       "[5 rows x 21 columns]"
      ]
     },
     "execution_count": 164,
     "metadata": {},
     "output_type": "execute_result"
    }
   ],
   "source": [
    "df_train.head()"
   ]
  },
  {
   "cell_type": "code",
   "execution_count": 165,
   "id": "c2875eec",
   "metadata": {},
   "outputs": [
    {
     "data": {
      "text/html": [
       "<div>\n",
       "<style scoped>\n",
       "    .dataframe tbody tr th:only-of-type {\n",
       "        vertical-align: middle;\n",
       "    }\n",
       "\n",
       "    .dataframe tbody tr th {\n",
       "        vertical-align: top;\n",
       "    }\n",
       "\n",
       "    .dataframe thead th {\n",
       "        text-align: right;\n",
       "    }\n",
       "</style>\n",
       "<table border=\"1\" class=\"dataframe\">\n",
       "  <thead>\n",
       "    <tr style=\"text-align: right;\">\n",
       "      <th></th>\n",
       "      <th>TravelProfile</th>\n",
       "      <th>Department</th>\n",
       "      <th>EducationField</th>\n",
       "      <th>Gender</th>\n",
       "      <th>Designation</th>\n",
       "      <th>MaritalStatus</th>\n",
       "      <th>Age_group</th>\n",
       "    </tr>\n",
       "  </thead>\n",
       "  <tbody>\n",
       "    <tr>\n",
       "      <th>0</th>\n",
       "      <td>1</td>\n",
       "      <td>0</td>\n",
       "      <td>0</td>\n",
       "      <td>1</td>\n",
       "      <td>1</td>\n",
       "      <td>1</td>\n",
       "      <td>1</td>\n",
       "    </tr>\n",
       "    <tr>\n",
       "      <th>1</th>\n",
       "      <td>2</td>\n",
       "      <td>2</td>\n",
       "      <td>5</td>\n",
       "      <td>0</td>\n",
       "      <td>1</td>\n",
       "      <td>2</td>\n",
       "      <td>1</td>\n",
       "    </tr>\n",
       "    <tr>\n",
       "      <th>2</th>\n",
       "      <td>1</td>\n",
       "      <td>0</td>\n",
       "      <td>5</td>\n",
       "      <td>0</td>\n",
       "      <td>2</td>\n",
       "      <td>2</td>\n",
       "      <td>1</td>\n",
       "    </tr>\n",
       "    <tr>\n",
       "      <th>3</th>\n",
       "      <td>2</td>\n",
       "      <td>2</td>\n",
       "      <td>5</td>\n",
       "      <td>0</td>\n",
       "      <td>2</td>\n",
       "      <td>0</td>\n",
       "      <td>1</td>\n",
       "    </tr>\n",
       "    <tr>\n",
       "      <th>4</th>\n",
       "      <td>0</td>\n",
       "      <td>0</td>\n",
       "      <td>5</td>\n",
       "      <td>0</td>\n",
       "      <td>2</td>\n",
       "      <td>0</td>\n",
       "      <td>1</td>\n",
       "    </tr>\n",
       "  </tbody>\n",
       "</table>\n",
       "</div>"
      ],
      "text/plain": [
       "   TravelProfile  Department  EducationField  Gender  Designation  \\\n",
       "0              1           0               0       1            1   \n",
       "1              2           2               5       0            1   \n",
       "2              1           0               5       0            2   \n",
       "3              2           2               5       0            2   \n",
       "4              0           0               5       0            2   \n",
       "\n",
       "   MaritalStatus  Age_group  \n",
       "0              1          1  \n",
       "1              2          1  \n",
       "2              2          1  \n",
       "3              0          1  \n",
       "4              0          1  "
      ]
     },
     "execution_count": 165,
     "metadata": {},
     "output_type": "execute_result"
    }
   ],
   "source": [
    "df_encoded=df_train[['TravelProfile', 'Department', 'EducationField', 'Gender',\n",
    "       'Designation', 'MaritalStatus', 'Age_group']]\n",
    "df_encoded.head()"
   ]
  },
  {
   "cell_type": "code",
   "execution_count": 166,
   "id": "83a3c00e",
   "metadata": {},
   "outputs": [
    {
     "data": {
      "text/html": [
       "<div>\n",
       "<style scoped>\n",
       "    .dataframe tbody tr th:only-of-type {\n",
       "        vertical-align: middle;\n",
       "    }\n",
       "\n",
       "    .dataframe tbody tr th {\n",
       "        vertical-align: top;\n",
       "    }\n",
       "\n",
       "    .dataframe thead th {\n",
       "        text-align: right;\n",
       "    }\n",
       "</style>\n",
       "<table border=\"1\" class=\"dataframe\">\n",
       "  <thead>\n",
       "    <tr style=\"text-align: right;\">\n",
       "      <th></th>\n",
       "      <th>HomeToWork</th>\n",
       "      <th>HourlnWeek</th>\n",
       "      <th>Involvement</th>\n",
       "      <th>WorkLifeBalance</th>\n",
       "      <th>JobSatisfaction</th>\n",
       "      <th>ESOPs</th>\n",
       "      <th>NumCompaniesWorked</th>\n",
       "      <th>OverTime</th>\n",
       "      <th>SalaryHikelastYear</th>\n",
       "      <th>WorkExperience</th>\n",
       "      <th>LastPromotion</th>\n",
       "      <th>CurrentProfile</th>\n",
       "      <th>MonthlyIncome</th>\n",
       "      <th>TravelProfile</th>\n",
       "      <th>Department</th>\n",
       "      <th>EducationField</th>\n",
       "      <th>Gender</th>\n",
       "      <th>Designation</th>\n",
       "      <th>MaritalStatus</th>\n",
       "      <th>Age_group</th>\n",
       "    </tr>\n",
       "  </thead>\n",
       "  <tbody>\n",
       "    <tr>\n",
       "      <th>0</th>\n",
       "      <td>-0.740761</td>\n",
       "      <td>0.872445</td>\n",
       "      <td>-2.552226</td>\n",
       "      <td>-1.426867</td>\n",
       "      <td>-1.596991</td>\n",
       "      <td>1.019003</td>\n",
       "      <td>-0.827823</td>\n",
       "      <td>1.479606</td>\n",
       "      <td>-0.178130</td>\n",
       "      <td>-0.544147</td>\n",
       "      <td>-0.172088</td>\n",
       "      <td>-6.330852e-15</td>\n",
       "      <td>-0.583867</td>\n",
       "      <td>1</td>\n",
       "      <td>0</td>\n",
       "      <td>0</td>\n",
       "      <td>1</td>\n",
       "      <td>1</td>\n",
       "      <td>1</td>\n",
       "      <td>1</td>\n",
       "    </tr>\n",
       "    <tr>\n",
       "      <th>1</th>\n",
       "      <td>-0.740761</td>\n",
       "      <td>0.318272</td>\n",
       "      <td>0.886441</td>\n",
       "      <td>-0.009033</td>\n",
       "      <td>-0.852265</td>\n",
       "      <td>-0.981162</td>\n",
       "      <td>1.858249</td>\n",
       "      <td>-0.675725</td>\n",
       "      <td>-0.178130</td>\n",
       "      <td>-0.936011</td>\n",
       "      <td>-0.483368</td>\n",
       "      <td>-6.330852e-15</td>\n",
       "      <td>-0.614961</td>\n",
       "      <td>2</td>\n",
       "      <td>2</td>\n",
       "      <td>5</td>\n",
       "      <td>0</td>\n",
       "      <td>1</td>\n",
       "      <td>2</td>\n",
       "      <td>1</td>\n",
       "    </tr>\n",
       "    <tr>\n",
       "      <th>2</th>\n",
       "      <td>-0.740761</td>\n",
       "      <td>-1.027577</td>\n",
       "      <td>2.032664</td>\n",
       "      <td>-0.009033</td>\n",
       "      <td>-0.852265</td>\n",
       "      <td>1.019003</td>\n",
       "      <td>-0.060374</td>\n",
       "      <td>-0.675725</td>\n",
       "      <td>1.467738</td>\n",
       "      <td>0.108960</td>\n",
       "      <td>-0.483368</td>\n",
       "      <td>-3.949700e-01</td>\n",
       "      <td>0.084335</td>\n",
       "      <td>1</td>\n",
       "      <td>0</td>\n",
       "      <td>5</td>\n",
       "      <td>0</td>\n",
       "      <td>2</td>\n",
       "      <td>2</td>\n",
       "      <td>1</td>\n",
       "    </tr>\n",
       "    <tr>\n",
       "      <th>3</th>\n",
       "      <td>-0.134317</td>\n",
       "      <td>-2.056756</td>\n",
       "      <td>-0.259781</td>\n",
       "      <td>-0.717950</td>\n",
       "      <td>0.637186</td>\n",
       "      <td>1.019003</td>\n",
       "      <td>-0.827823</td>\n",
       "      <td>-0.675725</td>\n",
       "      <td>0.644804</td>\n",
       "      <td>-0.805390</td>\n",
       "      <td>-0.483368</td>\n",
       "      <td>-3.949700e-01</td>\n",
       "      <td>-0.294080</td>\n",
       "      <td>2</td>\n",
       "      <td>2</td>\n",
       "      <td>5</td>\n",
       "      <td>0</td>\n",
       "      <td>2</td>\n",
       "      <td>0</td>\n",
       "      <td>1</td>\n",
       "    </tr>\n",
       "    <tr>\n",
       "      <th>4</th>\n",
       "      <td>1.927593</td>\n",
       "      <td>-0.710907</td>\n",
       "      <td>-0.259781</td>\n",
       "      <td>0.699885</td>\n",
       "      <td>0.637186</td>\n",
       "      <td>1.019003</td>\n",
       "      <td>1.858249</td>\n",
       "      <td>-0.675725</td>\n",
       "      <td>0.096181</td>\n",
       "      <td>0.108960</td>\n",
       "      <td>-0.483368</td>\n",
       "      <td>1.315727e+00</td>\n",
       "      <td>-0.003870</td>\n",
       "      <td>0</td>\n",
       "      <td>0</td>\n",
       "      <td>5</td>\n",
       "      <td>0</td>\n",
       "      <td>2</td>\n",
       "      <td>0</td>\n",
       "      <td>1</td>\n",
       "    </tr>\n",
       "  </tbody>\n",
       "</table>\n",
       "</div>"
      ],
      "text/plain": [
       "   HomeToWork  HourlnWeek  Involvement  WorkLifeBalance  JobSatisfaction  \\\n",
       "0   -0.740761    0.872445    -2.552226        -1.426867        -1.596991   \n",
       "1   -0.740761    0.318272     0.886441        -0.009033        -0.852265   \n",
       "2   -0.740761   -1.027577     2.032664        -0.009033        -0.852265   \n",
       "3   -0.134317   -2.056756    -0.259781        -0.717950         0.637186   \n",
       "4    1.927593   -0.710907    -0.259781         0.699885         0.637186   \n",
       "\n",
       "      ESOPs  NumCompaniesWorked  OverTime  SalaryHikelastYear  WorkExperience  \\\n",
       "0  1.019003           -0.827823  1.479606           -0.178130       -0.544147   \n",
       "1 -0.981162            1.858249 -0.675725           -0.178130       -0.936011   \n",
       "2  1.019003           -0.060374 -0.675725            1.467738        0.108960   \n",
       "3  1.019003           -0.827823 -0.675725            0.644804       -0.805390   \n",
       "4  1.019003            1.858249 -0.675725            0.096181        0.108960   \n",
       "\n",
       "   LastPromotion  CurrentProfile  MonthlyIncome  TravelProfile  Department  \\\n",
       "0      -0.172088   -6.330852e-15      -0.583867              1           0   \n",
       "1      -0.483368   -6.330852e-15      -0.614961              2           2   \n",
       "2      -0.483368   -3.949700e-01       0.084335              1           0   \n",
       "3      -0.483368   -3.949700e-01      -0.294080              2           2   \n",
       "4      -0.483368    1.315727e+00      -0.003870              0           0   \n",
       "\n",
       "   EducationField  Gender  Designation  MaritalStatus  Age_group  \n",
       "0               0       1            1              1          1  \n",
       "1               5       0            1              2          1  \n",
       "2               5       0            2              2          1  \n",
       "3               5       0            2              0          1  \n",
       "4               5       0            2              0          1  "
      ]
     },
     "execution_count": 166,
     "metadata": {},
     "output_type": "execute_result"
    }
   ],
   "source": [
    "X_train=pd.concat([df_train_number, df_encoded], axis=1)\n",
    "X_train.head()"
   ]
  },
  {
   "cell_type": "code",
   "execution_count": 167,
   "id": "c6d453ce",
   "metadata": {},
   "outputs": [
    {
     "data": {
      "text/plain": [
       "(5180, 20)"
      ]
     },
     "execution_count": 167,
     "metadata": {},
     "output_type": "execute_result"
    }
   ],
   "source": [
    "X_train.shape"
   ]
  },
  {
   "cell_type": "code",
   "execution_count": 168,
   "id": "15c28841",
   "metadata": {},
   "outputs": [
    {
     "name": "stderr",
     "output_type": "stream",
     "text": [
      "<ipython-input-168-77903a655343>:1: DeprecationWarning: `np.object` is a deprecated alias for the builtin `object`. To silence this warning, use `object` by itself. Doing this will not modify any behavior and is safe. \n",
      "Deprecated in NumPy 1.20; for more details and guidance: https://numpy.org/devdocs/release/1.20.0-notes.html#deprecations\n",
      "  df_test.select_dtypes(include=np.object).columns\n"
     ]
    },
    {
     "data": {
      "text/plain": [
       "Index(['TravelProfile', 'Department', 'EducationField', 'Gender',\n",
       "       'Designation', 'MaritalStatus', 'Age_group'],\n",
       "      dtype='object')"
      ]
     },
     "execution_count": 168,
     "metadata": {},
     "output_type": "execute_result"
    }
   ],
   "source": [
    "df_test.select_dtypes(include=np.object).columns"
   ]
  },
  {
   "cell_type": "code",
   "execution_count": 169,
   "id": "404b8ba3",
   "metadata": {},
   "outputs": [],
   "source": [
    "df_test.TravelProfile = le.fit_transform(df_test.TravelProfile)\n",
    "df_test.Department = le.fit_transform(df_test.Department)\n",
    "df_test.EducationField = le.fit_transform(df_test.EducationField)\n",
    "df_test.Gender = le.fit_transform(df_test.Gender)\n",
    "df_test.Designation = le.fit_transform(df_test.Designation)\n",
    "df_test.MaritalStatus = le.fit_transform(df_test.MaritalStatus)\n",
    "df_test.Age_group = le.fit_transform(df_test.Age_group)"
   ]
  },
  {
   "cell_type": "code",
   "execution_count": 170,
   "id": "bd935526",
   "metadata": {},
   "outputs": [
    {
     "data": {
      "text/html": [
       "<div>\n",
       "<style scoped>\n",
       "    .dataframe tbody tr th:only-of-type {\n",
       "        vertical-align: middle;\n",
       "    }\n",
       "\n",
       "    .dataframe tbody tr th {\n",
       "        vertical-align: top;\n",
       "    }\n",
       "\n",
       "    .dataframe thead th {\n",
       "        text-align: right;\n",
       "    }\n",
       "</style>\n",
       "<table border=\"1\" class=\"dataframe\">\n",
       "  <thead>\n",
       "    <tr style=\"text-align: right;\">\n",
       "      <th></th>\n",
       "      <th>TravelProfile</th>\n",
       "      <th>Department</th>\n",
       "      <th>HomeToWork</th>\n",
       "      <th>EducationField</th>\n",
       "      <th>Gender</th>\n",
       "      <th>HourlnWeek</th>\n",
       "      <th>Involvement</th>\n",
       "      <th>WorkLifeBalance</th>\n",
       "      <th>Designation</th>\n",
       "      <th>JobSatisfaction</th>\n",
       "      <th>ESOPs</th>\n",
       "      <th>NumCompaniesWorked</th>\n",
       "      <th>OverTime</th>\n",
       "      <th>SalaryHikelastYear</th>\n",
       "      <th>WorkExperience</th>\n",
       "      <th>LastPromotion</th>\n",
       "      <th>CurrentProfile</th>\n",
       "      <th>MaritalStatus</th>\n",
       "      <th>MonthlyIncome</th>\n",
       "      <th>Age_group</th>\n",
       "    </tr>\n",
       "  </thead>\n",
       "  <tbody>\n",
       "    <tr>\n",
       "      <th>0</th>\n",
       "      <td>0</td>\n",
       "      <td>0</td>\n",
       "      <td>9.0</td>\n",
       "      <td>0</td>\n",
       "      <td>1</td>\n",
       "      <td>80.0</td>\n",
       "      <td>3</td>\n",
       "      <td>2</td>\n",
       "      <td>1</td>\n",
       "      <td>3</td>\n",
       "      <td>1</td>\n",
       "      <td>1</td>\n",
       "      <td>0</td>\n",
       "      <td>17.0</td>\n",
       "      <td>0.0</td>\n",
       "      <td>0.0</td>\n",
       "      <td>0.000000</td>\n",
       "      <td>2</td>\n",
       "      <td>16904.0</td>\n",
       "      <td>0</td>\n",
       "    </tr>\n",
       "    <tr>\n",
       "      <th>1</th>\n",
       "      <td>1</td>\n",
       "      <td>0</td>\n",
       "      <td>28.0</td>\n",
       "      <td>5</td>\n",
       "      <td>0</td>\n",
       "      <td>59.0</td>\n",
       "      <td>1</td>\n",
       "      <td>3</td>\n",
       "      <td>1</td>\n",
       "      <td>1</td>\n",
       "      <td>1</td>\n",
       "      <td>2</td>\n",
       "      <td>1</td>\n",
       "      <td>18.0</td>\n",
       "      <td>2.0</td>\n",
       "      <td>1.0</td>\n",
       "      <td>4.506811</td>\n",
       "      <td>2</td>\n",
       "      <td>18994.0</td>\n",
       "      <td>0</td>\n",
       "    </tr>\n",
       "    <tr>\n",
       "      <th>2</th>\n",
       "      <td>1</td>\n",
       "      <td>0</td>\n",
       "      <td>19.0</td>\n",
       "      <td>0</td>\n",
       "      <td>0</td>\n",
       "      <td>76.0</td>\n",
       "      <td>3</td>\n",
       "      <td>3</td>\n",
       "      <td>1</td>\n",
       "      <td>5</td>\n",
       "      <td>0</td>\n",
       "      <td>5</td>\n",
       "      <td>1</td>\n",
       "      <td>22.0</td>\n",
       "      <td>18.0</td>\n",
       "      <td>3.0</td>\n",
       "      <td>3.000000</td>\n",
       "      <td>1</td>\n",
       "      <td>18587.0</td>\n",
       "      <td>2</td>\n",
       "    </tr>\n",
       "    <tr>\n",
       "      <th>3</th>\n",
       "      <td>1</td>\n",
       "      <td>2</td>\n",
       "      <td>23.0</td>\n",
       "      <td>5</td>\n",
       "      <td>0</td>\n",
       "      <td>73.0</td>\n",
       "      <td>5</td>\n",
       "      <td>2</td>\n",
       "      <td>2</td>\n",
       "      <td>3</td>\n",
       "      <td>0</td>\n",
       "      <td>4</td>\n",
       "      <td>1</td>\n",
       "      <td>17.0</td>\n",
       "      <td>5.0</td>\n",
       "      <td>3.0</td>\n",
       "      <td>3.000000</td>\n",
       "      <td>1</td>\n",
       "      <td>20559.0</td>\n",
       "      <td>1</td>\n",
       "    </tr>\n",
       "    <tr>\n",
       "      <th>4</th>\n",
       "      <td>1</td>\n",
       "      <td>0</td>\n",
       "      <td>7.0</td>\n",
       "      <td>0</td>\n",
       "      <td>1</td>\n",
       "      <td>42.0</td>\n",
       "      <td>4</td>\n",
       "      <td>1</td>\n",
       "      <td>3</td>\n",
       "      <td>5</td>\n",
       "      <td>1</td>\n",
       "      <td>4</td>\n",
       "      <td>0</td>\n",
       "      <td>20.0</td>\n",
       "      <td>9.0</td>\n",
       "      <td>1.0</td>\n",
       "      <td>7.000000</td>\n",
       "      <td>1</td>\n",
       "      <td>24991.0</td>\n",
       "      <td>1</td>\n",
       "    </tr>\n",
       "  </tbody>\n",
       "</table>\n",
       "</div>"
      ],
      "text/plain": [
       "   TravelProfile  Department  HomeToWork  EducationField  Gender  HourlnWeek  \\\n",
       "0              0           0         9.0               0       1        80.0   \n",
       "1              1           0        28.0               5       0        59.0   \n",
       "2              1           0        19.0               0       0        76.0   \n",
       "3              1           2        23.0               5       0        73.0   \n",
       "4              1           0         7.0               0       1        42.0   \n",
       "\n",
       "   Involvement  WorkLifeBalance  Designation  JobSatisfaction  ESOPs  \\\n",
       "0            3                2            1                3      1   \n",
       "1            1                3            1                1      1   \n",
       "2            3                3            1                5      0   \n",
       "3            5                2            2                3      0   \n",
       "4            4                1            3                5      1   \n",
       "\n",
       "   NumCompaniesWorked  OverTime  SalaryHikelastYear  WorkExperience  \\\n",
       "0                   1         0                17.0             0.0   \n",
       "1                   2         1                18.0             2.0   \n",
       "2                   5         1                22.0            18.0   \n",
       "3                   4         1                17.0             5.0   \n",
       "4                   4         0                20.0             9.0   \n",
       "\n",
       "   LastPromotion  CurrentProfile  MaritalStatus  MonthlyIncome  Age_group  \n",
       "0            0.0        0.000000              2        16904.0          0  \n",
       "1            1.0        4.506811              2        18994.0          0  \n",
       "2            3.0        3.000000              1        18587.0          2  \n",
       "3            3.0        3.000000              1        20559.0          1  \n",
       "4            1.0        7.000000              1        24991.0          1  "
      ]
     },
     "execution_count": 170,
     "metadata": {},
     "output_type": "execute_result"
    }
   ],
   "source": [
    "df_test.head()"
   ]
  },
  {
   "cell_type": "code",
   "execution_count": 171,
   "id": "8ec76f5c",
   "metadata": {},
   "outputs": [
    {
     "data": {
      "text/html": [
       "<div>\n",
       "<style scoped>\n",
       "    .dataframe tbody tr th:only-of-type {\n",
       "        vertical-align: middle;\n",
       "    }\n",
       "\n",
       "    .dataframe tbody tr th {\n",
       "        vertical-align: top;\n",
       "    }\n",
       "\n",
       "    .dataframe thead th {\n",
       "        text-align: right;\n",
       "    }\n",
       "</style>\n",
       "<table border=\"1\" class=\"dataframe\">\n",
       "  <thead>\n",
       "    <tr style=\"text-align: right;\">\n",
       "      <th></th>\n",
       "      <th>TravelProfile</th>\n",
       "      <th>Department</th>\n",
       "      <th>EducationField</th>\n",
       "      <th>Gender</th>\n",
       "      <th>Designation</th>\n",
       "      <th>MaritalStatus</th>\n",
       "      <th>Age_group</th>\n",
       "    </tr>\n",
       "  </thead>\n",
       "  <tbody>\n",
       "    <tr>\n",
       "      <th>0</th>\n",
       "      <td>0</td>\n",
       "      <td>0</td>\n",
       "      <td>0</td>\n",
       "      <td>1</td>\n",
       "      <td>1</td>\n",
       "      <td>2</td>\n",
       "      <td>0</td>\n",
       "    </tr>\n",
       "    <tr>\n",
       "      <th>1</th>\n",
       "      <td>1</td>\n",
       "      <td>0</td>\n",
       "      <td>5</td>\n",
       "      <td>0</td>\n",
       "      <td>1</td>\n",
       "      <td>2</td>\n",
       "      <td>0</td>\n",
       "    </tr>\n",
       "    <tr>\n",
       "      <th>2</th>\n",
       "      <td>1</td>\n",
       "      <td>0</td>\n",
       "      <td>0</td>\n",
       "      <td>0</td>\n",
       "      <td>1</td>\n",
       "      <td>1</td>\n",
       "      <td>2</td>\n",
       "    </tr>\n",
       "    <tr>\n",
       "      <th>3</th>\n",
       "      <td>1</td>\n",
       "      <td>2</td>\n",
       "      <td>5</td>\n",
       "      <td>0</td>\n",
       "      <td>2</td>\n",
       "      <td>1</td>\n",
       "      <td>1</td>\n",
       "    </tr>\n",
       "    <tr>\n",
       "      <th>4</th>\n",
       "      <td>1</td>\n",
       "      <td>0</td>\n",
       "      <td>0</td>\n",
       "      <td>1</td>\n",
       "      <td>3</td>\n",
       "      <td>1</td>\n",
       "      <td>1</td>\n",
       "    </tr>\n",
       "  </tbody>\n",
       "</table>\n",
       "</div>"
      ],
      "text/plain": [
       "   TravelProfile  Department  EducationField  Gender  Designation  \\\n",
       "0              0           0               0       1            1   \n",
       "1              1           0               5       0            1   \n",
       "2              1           0               0       0            1   \n",
       "3              1           2               5       0            2   \n",
       "4              1           0               0       1            3   \n",
       "\n",
       "   MaritalStatus  Age_group  \n",
       "0              2          0  \n",
       "1              2          0  \n",
       "2              1          2  \n",
       "3              1          1  \n",
       "4              1          1  "
      ]
     },
     "execution_count": 171,
     "metadata": {},
     "output_type": "execute_result"
    }
   ],
   "source": [
    "df_encoded1=df_test[['TravelProfile', 'Department', 'EducationField', 'Gender',\n",
    "       'Designation', 'MaritalStatus', 'Age_group']]\n",
    "df_encoded1.head()"
   ]
  },
  {
   "cell_type": "code",
   "execution_count": 172,
   "id": "0c5e5475",
   "metadata": {},
   "outputs": [
    {
     "data": {
      "text/html": [
       "<div>\n",
       "<style scoped>\n",
       "    .dataframe tbody tr th:only-of-type {\n",
       "        vertical-align: middle;\n",
       "    }\n",
       "\n",
       "    .dataframe tbody tr th {\n",
       "        vertical-align: top;\n",
       "    }\n",
       "\n",
       "    .dataframe thead th {\n",
       "        text-align: right;\n",
       "    }\n",
       "</style>\n",
       "<table border=\"1\" class=\"dataframe\">\n",
       "  <thead>\n",
       "    <tr style=\"text-align: right;\">\n",
       "      <th></th>\n",
       "      <th>HomeToWork</th>\n",
       "      <th>HourlnWeek</th>\n",
       "      <th>Involvement</th>\n",
       "      <th>WorkLifeBalance</th>\n",
       "      <th>JobSatisfaction</th>\n",
       "      <th>ESOPs</th>\n",
       "      <th>NumCompaniesWorked</th>\n",
       "      <th>OverTime</th>\n",
       "      <th>SalaryHikelastYear</th>\n",
       "      <th>WorkExperience</th>\n",
       "      <th>LastPromotion</th>\n",
       "      <th>CurrentProfile</th>\n",
       "      <th>MonthlyIncome</th>\n",
       "      <th>TravelProfile</th>\n",
       "      <th>Department</th>\n",
       "      <th>EducationField</th>\n",
       "      <th>Gender</th>\n",
       "      <th>Designation</th>\n",
       "      <th>MaritalStatus</th>\n",
       "      <th>Age_group</th>\n",
       "    </tr>\n",
       "  </thead>\n",
       "  <tbody>\n",
       "    <tr>\n",
       "      <th>0</th>\n",
       "      <td>-0.281237</td>\n",
       "      <td>1.717670</td>\n",
       "      <td>-0.270935</td>\n",
       "      <td>-0.754791</td>\n",
       "      <td>-0.086405</td>\n",
       "      <td>0.989974</td>\n",
       "      <td>-0.834486</td>\n",
       "      <td>-0.701737</td>\n",
       "      <td>-0.994128</td>\n",
       "      <td>-1.452568</td>\n",
       "      <td>-0.814416</td>\n",
       "      <td>-1.290295e+00</td>\n",
       "      <td>-0.972232</td>\n",
       "      <td>0</td>\n",
       "      <td>0</td>\n",
       "      <td>0</td>\n",
       "      <td>1</td>\n",
       "      <td>1</td>\n",
       "      <td>2</td>\n",
       "      <td>0</td>\n",
       "    </tr>\n",
       "    <tr>\n",
       "      <th>1</th>\n",
       "      <td>1.919445</td>\n",
       "      <td>0.088203</td>\n",
       "      <td>-2.533026</td>\n",
       "      <td>-0.048852</td>\n",
       "      <td>-1.581442</td>\n",
       "      <td>0.989974</td>\n",
       "      <td>-0.459067</td>\n",
       "      <td>1.424494</td>\n",
       "      <td>-0.720778</td>\n",
       "      <td>-1.200507</td>\n",
       "      <td>-0.508371</td>\n",
       "      <td>2.797128e-15</td>\n",
       "      <td>-0.559234</td>\n",
       "      <td>1</td>\n",
       "      <td>0</td>\n",
       "      <td>5</td>\n",
       "      <td>0</td>\n",
       "      <td>1</td>\n",
       "      <td>2</td>\n",
       "      <td>0</td>\n",
       "    </tr>\n",
       "    <tr>\n",
       "      <th>2</th>\n",
       "      <td>0.877016</td>\n",
       "      <td>1.407296</td>\n",
       "      <td>-0.270935</td>\n",
       "      <td>-0.048852</td>\n",
       "      <td>1.408632</td>\n",
       "      <td>-1.009743</td>\n",
       "      <td>0.667189</td>\n",
       "      <td>1.424494</td>\n",
       "      <td>0.372623</td>\n",
       "      <td>0.815983</td>\n",
       "      <td>0.103720</td>\n",
       "      <td>-4.313981e-01</td>\n",
       "      <td>-0.639660</td>\n",
       "      <td>1</td>\n",
       "      <td>0</td>\n",
       "      <td>0</td>\n",
       "      <td>0</td>\n",
       "      <td>1</td>\n",
       "      <td>1</td>\n",
       "      <td>2</td>\n",
       "    </tr>\n",
       "    <tr>\n",
       "      <th>3</th>\n",
       "      <td>1.340318</td>\n",
       "      <td>1.174515</td>\n",
       "      <td>1.991156</td>\n",
       "      <td>-0.754791</td>\n",
       "      <td>-0.086405</td>\n",
       "      <td>-1.009743</td>\n",
       "      <td>0.291770</td>\n",
       "      <td>1.424494</td>\n",
       "      <td>-0.994128</td>\n",
       "      <td>-0.822415</td>\n",
       "      <td>0.103720</td>\n",
       "      <td>-4.313981e-01</td>\n",
       "      <td>-0.249980</td>\n",
       "      <td>1</td>\n",
       "      <td>2</td>\n",
       "      <td>5</td>\n",
       "      <td>0</td>\n",
       "      <td>2</td>\n",
       "      <td>1</td>\n",
       "      <td>1</td>\n",
       "    </tr>\n",
       "    <tr>\n",
       "      <th>4</th>\n",
       "      <td>-0.512888</td>\n",
       "      <td>-1.230890</td>\n",
       "      <td>0.860111</td>\n",
       "      <td>-1.460731</td>\n",
       "      <td>1.408632</td>\n",
       "      <td>0.989974</td>\n",
       "      <td>0.291770</td>\n",
       "      <td>-0.701737</td>\n",
       "      <td>-0.174078</td>\n",
       "      <td>-0.318293</td>\n",
       "      <td>-0.508371</td>\n",
       "      <td>7.137970e-01</td>\n",
       "      <td>0.625812</td>\n",
       "      <td>1</td>\n",
       "      <td>0</td>\n",
       "      <td>0</td>\n",
       "      <td>1</td>\n",
       "      <td>3</td>\n",
       "      <td>1</td>\n",
       "      <td>1</td>\n",
       "    </tr>\n",
       "  </tbody>\n",
       "</table>\n",
       "</div>"
      ],
      "text/plain": [
       "   HomeToWork  HourlnWeek  Involvement  WorkLifeBalance  JobSatisfaction  \\\n",
       "0   -0.281237    1.717670    -0.270935        -0.754791        -0.086405   \n",
       "1    1.919445    0.088203    -2.533026        -0.048852        -1.581442   \n",
       "2    0.877016    1.407296    -0.270935        -0.048852         1.408632   \n",
       "3    1.340318    1.174515     1.991156        -0.754791        -0.086405   \n",
       "4   -0.512888   -1.230890     0.860111        -1.460731         1.408632   \n",
       "\n",
       "      ESOPs  NumCompaniesWorked  OverTime  SalaryHikelastYear  WorkExperience  \\\n",
       "0  0.989974           -0.834486 -0.701737           -0.994128       -1.452568   \n",
       "1  0.989974           -0.459067  1.424494           -0.720778       -1.200507   \n",
       "2 -1.009743            0.667189  1.424494            0.372623        0.815983   \n",
       "3 -1.009743            0.291770  1.424494           -0.994128       -0.822415   \n",
       "4  0.989974            0.291770 -0.701737           -0.174078       -0.318293   \n",
       "\n",
       "   LastPromotion  CurrentProfile  MonthlyIncome  TravelProfile  Department  \\\n",
       "0      -0.814416   -1.290295e+00      -0.972232              0           0   \n",
       "1      -0.508371    2.797128e-15      -0.559234              1           0   \n",
       "2       0.103720   -4.313981e-01      -0.639660              1           0   \n",
       "3       0.103720   -4.313981e-01      -0.249980              1           2   \n",
       "4      -0.508371    7.137970e-01       0.625812              1           0   \n",
       "\n",
       "   EducationField  Gender  Designation  MaritalStatus  Age_group  \n",
       "0               0       1            1              2          0  \n",
       "1               5       0            1              2          0  \n",
       "2               0       0            1              1          2  \n",
       "3               5       0            2              1          1  \n",
       "4               0       1            3              1          1  "
      ]
     },
     "execution_count": 172,
     "metadata": {},
     "output_type": "execute_result"
    }
   ],
   "source": [
    "X_test=pd.concat([df_test_number, df_encoded1], axis=1)\n",
    "X_test.head()"
   ]
  },
  {
   "cell_type": "code",
   "execution_count": 173,
   "id": "9f3c5aa5",
   "metadata": {},
   "outputs": [
    {
     "data": {
      "text/plain": [
       "(2630, 20)"
      ]
     },
     "execution_count": 173,
     "metadata": {},
     "output_type": "execute_result"
    }
   ],
   "source": [
    "X_test.shape"
   ]
  },
  {
   "cell_type": "code",
   "execution_count": 174,
   "id": "6dabe4aa",
   "metadata": {},
   "outputs": [
    {
     "data": {
      "text/plain": [
       "0    0.0\n",
       "1    1.0\n",
       "2    0.0\n",
       "3    0.0\n",
       "4    0.0\n",
       "Name: Attrition, dtype: float64"
      ]
     },
     "execution_count": 174,
     "metadata": {},
     "output_type": "execute_result"
    }
   ],
   "source": [
    "y_train=df_train['Attrition']\n",
    "y_train.head()"
   ]
  },
  {
   "cell_type": "code",
   "execution_count": 175,
   "id": "2d286ae2",
   "metadata": {},
   "outputs": [
    {
     "data": {
      "text/plain": [
       "((5180, 20), (2630, 20), (5180,))"
      ]
     },
     "execution_count": 175,
     "metadata": {},
     "output_type": "execute_result"
    }
   ],
   "source": [
    "X_train.shape,X_test.shape,y_train.shape"
   ]
  },
  {
   "cell_type": "markdown",
   "id": "e10bb59c",
   "metadata": {},
   "source": [
    "# new data"
   ]
  },
  {
   "cell_type": "code",
   "execution_count": 176,
   "id": "294b3984",
   "metadata": {},
   "outputs": [],
   "source": [
    "df_newmodel=pd.read_csv('Test_Dataset.csv')"
   ]
  },
  {
   "cell_type": "code",
   "execution_count": 177,
   "id": "f4a90aad",
   "metadata": {},
   "outputs": [],
   "source": [
    "df_new=df_newmodel['EmployeeID']"
   ]
  },
  {
   "cell_type": "markdown",
   "id": "ba3c0a5b",
   "metadata": {},
   "source": [
    "# Performing Random Forest Classifier to get the Best Result of the Model"
   ]
  },
  {
   "cell_type": "code",
   "execution_count": 178,
   "id": "0747486a",
   "metadata": {},
   "outputs": [
    {
     "data": {
      "application/javascript": [
       "\n",
       "        if (window._pyforest_update_imports_cell) { window._pyforest_update_imports_cell('import seaborn as sns\\nfrom sklearn.ensemble import RandomForestRegressor\\nfrom sklearn.ensemble import RandomForestClassifier'); }\n",
       "    "
      ],
      "text/plain": [
       "<IPython.core.display.Javascript object>"
      ]
     },
     "metadata": {},
     "output_type": "display_data"
    }
   ],
   "source": [
    "rf = RandomForestClassifier( n_estimators = 500, criterion = 'entropy', random_state = 0)"
   ]
  },
  {
   "cell_type": "code",
   "execution_count": 179,
   "id": "50b7810f",
   "metadata": {},
   "outputs": [
    {
     "data": {
      "text/plain": [
       "RandomForestClassifier(criterion='entropy', n_estimators=500, random_state=0)"
      ]
     },
     "execution_count": 179,
     "metadata": {},
     "output_type": "execute_result"
    }
   ],
   "source": [
    "rf.fit(X_train, y_train)"
   ]
  },
  {
   "cell_type": "code",
   "execution_count": 86,
   "id": "9d5775bf",
   "metadata": {},
   "outputs": [
    {
     "data": {
      "text/plain": [
       "1.0"
      ]
     },
     "execution_count": 86,
     "metadata": {},
     "output_type": "execute_result"
    }
   ],
   "source": [
    "rf.score(X_train, y_train)"
   ]
  },
  {
   "cell_type": "code",
   "execution_count": 87,
   "id": "a6194e1f",
   "metadata": {},
   "outputs": [],
   "source": [
    "pred = rf.predict(X_test)"
   ]
  },
  {
   "cell_type": "code",
   "execution_count": 88,
   "id": "ca0f1a37",
   "metadata": {},
   "outputs": [],
   "source": [
    "df_predict1 = pd.DataFrame(pred, columns =['Attrition'])"
   ]
  },
  {
   "cell_type": "code",
   "execution_count": 89,
   "id": "608205b9",
   "metadata": {},
   "outputs": [],
   "source": [
    "df_new_predict_test1=pd.concat([df_new,df_predict1],axis=1)"
   ]
  },
  {
   "cell_type": "code",
   "execution_count": null,
   "id": "4c50acb6",
   "metadata": {},
   "outputs": [],
   "source": [
    "df_new_predict_test1.to_csv('newdata123.csv',index=False)"
   ]
  },
  {
   "cell_type": "markdown",
   "id": "0b204188",
   "metadata": {},
   "source": [
    "# Performing Random Search to get the Best Parameters of Random Forest"
   ]
  },
  {
   "cell_type": "code",
   "execution_count": 182,
   "id": "6eeb8f30",
   "metadata": {},
   "outputs": [
    {
     "name": "stdout",
     "output_type": "stream",
     "text": [
      "Parameters currently in use:\n",
      "\n",
      "{'bootstrap': True,\n",
      " 'ccp_alpha': 0.0,\n",
      " 'criterion': 'mse',\n",
      " 'max_depth': None,\n",
      " 'max_features': 'auto',\n",
      " 'max_leaf_nodes': None,\n",
      " 'max_samples': None,\n",
      " 'min_impurity_decrease': 0.0,\n",
      " 'min_impurity_split': None,\n",
      " 'min_samples_leaf': 1,\n",
      " 'min_samples_split': 2,\n",
      " 'min_weight_fraction_leaf': 0.0,\n",
      " 'n_estimators': 100,\n",
      " 'n_jobs': None,\n",
      " 'oob_score': False,\n",
      " 'random_state': 42,\n",
      " 'verbose': 0,\n",
      " 'warm_start': False}\n"
     ]
    }
   ],
   "source": [
    "from sklearn.ensemble import RandomForestRegressor\n",
    "rf = RandomForestRegressor(random_state = 42)\n",
    "from pprint import pprint\n",
    "# Look at parameters used by our current forest\n",
    "print('Parameters currently in use:\\n')\n",
    "pprint(rf.get_params())"
   ]
  },
  {
   "cell_type": "code",
   "execution_count": 183,
   "id": "0277ff6a",
   "metadata": {},
   "outputs": [
    {
     "name": "stdout",
     "output_type": "stream",
     "text": [
      "{'bootstrap': [True, False],\n",
      " 'max_depth': [10, 20, 30, 40, 50, 60, 70, 80, 90, 100, 110, None],\n",
      " 'max_features': ['auto', 'sqrt'],\n",
      " 'min_samples_leaf': [1, 2, 4],\n",
      " 'min_samples_split': [2, 5, 10],\n",
      " 'n_estimators': [200, 400, 600, 800, 1000, 1200, 1400, 1600, 1800, 2000]}\n"
     ]
    }
   ],
   "source": [
    "from sklearn.model_selection import RandomizedSearchCV\n",
    "# Number of trees in random forest\n",
    "n_estimators = [int(x) for x in np.linspace(start = 200, stop = 2000, num = 10)]\n",
    "# Number of features to consider at every split\n",
    "max_features = ['auto', 'sqrt']\n",
    "# Maximum number of levels in tree\n",
    "max_depth = [int(x) for x in np.linspace(10, 110, num = 11)]\n",
    "max_depth.append(None)\n",
    "# Minimum number of samples required to split a node\n",
    "min_samples_split = [2, 5, 10]\n",
    "# Minimum number of samples required at each leaf node\n",
    "min_samples_leaf = [1, 2, 4]\n",
    "# Method of selecting samples for training each tree\n",
    "bootstrap = [True, False]\n",
    "# Create the random grid\n",
    "random_grid = {'n_estimators': n_estimators,\n",
    "               'max_features': max_features,\n",
    "               'max_depth': max_depth,\n",
    "               'min_samples_split': min_samples_split,\n",
    "               'min_samples_leaf': min_samples_leaf,\n",
    "               'bootstrap': bootstrap}\n",
    "pprint(random_grid)\n"
   ]
  },
  {
   "cell_type": "code",
   "execution_count": 184,
   "id": "f4cd25b5",
   "metadata": {},
   "outputs": [
    {
     "name": "stdout",
     "output_type": "stream",
     "text": [
      "Fitting 3 folds for each of 100 candidates, totalling 300 fits\n"
     ]
    },
    {
     "name": "stderr",
     "output_type": "stream",
     "text": [
      "[Parallel(n_jobs=-1)]: Using backend LokyBackend with 8 concurrent workers.\n",
      "[Parallel(n_jobs=-1)]: Done  25 tasks      | elapsed:  1.1min\n",
      "[Parallel(n_jobs=-1)]: Done 146 tasks      | elapsed:  5.1min\n",
      "[Parallel(n_jobs=-1)]: Done 300 out of 300 | elapsed: 12.0min finished\n"
     ]
    },
    {
     "data": {
      "text/plain": [
       "RandomizedSearchCV(cv=3, error_score=nan,\n",
       "                   estimator=RandomForestRegressor(bootstrap=True,\n",
       "                                                   ccp_alpha=0.0,\n",
       "                                                   criterion='mse',\n",
       "                                                   max_depth=None,\n",
       "                                                   max_features='auto',\n",
       "                                                   max_leaf_nodes=None,\n",
       "                                                   max_samples=None,\n",
       "                                                   min_impurity_decrease=0.0,\n",
       "                                                   min_impurity_split=None,\n",
       "                                                   min_samples_leaf=1,\n",
       "                                                   min_samples_split=2,\n",
       "                                                   min_weight_fraction_leaf=0.0,\n",
       "                                                   n_estimators=100,\n",
       "                                                   n_jobs=None, oob_score=Fals...\n",
       "                   param_distributions={'bootstrap': [True, False],\n",
       "                                        'max_depth': [10, 20, 30, 40, 50, 60,\n",
       "                                                      70, 80, 90, 100, 110,\n",
       "                                                      None],\n",
       "                                        'max_features': ['auto', 'sqrt'],\n",
       "                                        'min_samples_leaf': [1, 2, 4],\n",
       "                                        'min_samples_split': [2, 5, 10],\n",
       "                                        'n_estimators': [200, 400, 600, 800,\n",
       "                                                         1000, 1200, 1400, 1600,\n",
       "                                                         1800, 2000]},\n",
       "                   pre_dispatch='2*n_jobs', random_state=42, refit=True,\n",
       "                   return_train_score=False, scoring=None, verbose=2)"
      ]
     },
     "execution_count": 184,
     "metadata": {},
     "output_type": "execute_result"
    }
   ],
   "source": [
    "# Use the random grid to search for best hyperparameters\n",
    "# First create the base model to tune\n",
    "rf = RandomForestRegressor()\n",
    "# Random search of parameters, using 3 fold cross validation, \n",
    "# search across 100 different combinations, and use all available cores\n",
    "rf_random = RandomizedSearchCV(estimator = rf, param_distributions = random_grid, n_iter = 100, cv = 3, verbose=2, random_state=42, n_jobs = -1)\n",
    "# Fit the random search model\n",
    "rf_random.fit(X_train, y_train)"
   ]
  },
  {
   "cell_type": "code",
   "execution_count": 185,
   "id": "4be2dd21",
   "metadata": {},
   "outputs": [
    {
     "data": {
      "text/plain": [
       "{'n_estimators': 400,\n",
       " 'min_samples_split': 2,\n",
       " 'min_samples_leaf': 1,\n",
       " 'max_features': 'sqrt',\n",
       " 'max_depth': None,\n",
       " 'bootstrap': False}"
      ]
     },
     "execution_count": 185,
     "metadata": {},
     "output_type": "execute_result"
    }
   ],
   "source": [
    "rf_random.best_params_"
   ]
  },
  {
   "cell_type": "code",
   "execution_count": 180,
   "id": "a44b990b",
   "metadata": {},
   "outputs": [
    {
     "data": {
      "application/javascript": [
       "\n",
       "        if (window._pyforest_update_imports_cell) { window._pyforest_update_imports_cell('import seaborn as sns\\nfrom sklearn.ensemble import RandomForestRegressor\\nfrom sklearn.ensemble import RandomForestClassifier'); }\n",
       "    "
      ],
      "text/plain": [
       "<IPython.core.display.Javascript object>"
      ]
     },
     "metadata": {},
     "output_type": "display_data"
    }
   ],
   "source": [
    "rf1 = RandomForestClassifier(n_estimators= 400, min_samples_split= 2,\n",
    " min_samples_leaf= 1,\n",
    " max_features= 'sqrt',\n",
    " max_depth= None,\n",
    " bootstrap= False, random_state=42, n_jobs = -1)"
   ]
  },
  {
   "cell_type": "markdown",
   "id": "a30f9b83",
   "metadata": {},
   "source": [
    "# fit the data and transfer into Excel"
   ]
  },
  {
   "cell_type": "code",
   "execution_count": 181,
   "id": "cc52c417",
   "metadata": {
    "scrolled": false
   },
   "outputs": [],
   "source": [
    "rf1.fit(X_train, y_train)\n",
    "\n",
    "rf1.score(X_train, y_train)\n",
    "\n",
    "pred1 = rf1.predict(X_test)\n",
    "\n",
    "df_predict11 = pd.DataFrame(pred1, columns =['Attrition'])\n",
    "\n",
    "df_new_predict_test11=pd.concat([df_new,df_predict11],axis=1)\n",
    "\n",
    "df_new_predict_test11.to_csv('peredicted.csv',index=False)"
   ]
  },
  {
   "cell_type": "code",
   "execution_count": null,
   "id": "7c4a13da",
   "metadata": {},
   "outputs": [],
   "source": []
  }
 ],
 "metadata": {
  "kernelspec": {
   "display_name": "Python 3",
   "language": "python",
   "name": "python3"
  },
  "language_info": {
   "codemirror_mode": {
    "name": "ipython",
    "version": 3
   },
   "file_extension": ".py",
   "mimetype": "text/x-python",
   "name": "python",
   "nbconvert_exporter": "python",
   "pygments_lexer": "ipython3",
   "version": "3.8.8"
  },
  "latex_envs": {
   "LaTeX_envs_menu_present": true,
   "autoclose": false,
   "autocomplete": true,
   "bibliofile": "biblio.bib",
   "cite_by": "apalike",
   "current_citInitial": 1,
   "eqLabelWithNumbers": true,
   "eqNumInitial": 1,
   "hotkeys": {
    "equation": "Ctrl-E",
    "itemize": "Ctrl-I"
   },
   "labels_anchors": false,
   "latex_user_defs": false,
   "report_style_numbering": false,
   "user_envs_cfg": false
  }
 },
 "nbformat": 4,
 "nbformat_minor": 5
}